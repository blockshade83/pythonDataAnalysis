{
 "cells": [
  {
   "cell_type": "markdown",
   "id": "b8427531-5296-47c1-b862-55f0f7961302",
   "metadata": {},
   "source": [
    "<h2>Diamond Price Prediction</h2>"
   ]
  },
  {
   "cell_type": "markdown",
   "id": "8ac60447-3d59-4d3e-ad09-caa37b8f24ef",
   "metadata": {},
   "source": [
    "<h3>1. Introduction</h3>"
   ]
  },
  {
   "cell_type": "markdown",
   "id": "1ea54d9a-a280-4b0a-9485-894e5fed8458",
   "metadata": {},
   "source": [
    "<div class=\"alert alert-block alert-info\">\n",
    "In this analysis, we will be looking at predicting the price of diamonds from a dataset which has multiple features, numerical and categorical. The process will be the following:\n",
    "<li>The dataset will be split in 3 parts: a partition will be set aside for testing, and the remaining part will be further split in 2 partitions: one for training and one for validation. </li>\n",
    "<li>We will use tensorflow.keras, attempt combinations of these features to see which one has the highest predictive power. </li>\n",
    "<li>Once we have decided on the set of features to use, we will be adjusting parameters to improve the model. </li>\n",
    "<li>When a combination of parameters has also been found to work the best, we will run the model for more iterations (epochs) to see where the learning stops. </li>\n",
    "<li>The final selection of parameters, including the number of epochs will then be trained on the (train + validation) partition and evaluated on the testing partition.</li>\n",
    "</div>"
   ]
  },
  {
   "cell_type": "markdown",
   "id": "b156c434-e36d-47f3-b3d7-cf3be92a415c",
   "metadata": {},
   "source": [
    "<h3>2. Methodology</h3>"
   ]
  },
  {
   "cell_type": "markdown",
   "id": "f51683e0-c15e-4ba4-b831-ba74566d6eb2",
   "metadata": {},
   "source": [
    "<div class=\"alert alert-block alert-info\">\n",
    "We start by importing all the dependendies required for this analysis. This includes os, tensorflow, pandas, matplotlib and scikit-learn.\n",
    "</div>"
   ]
  },
  {
   "cell_type": "code",
   "execution_count": 1,
   "id": "194c0659-9304-4618-b451-8c0e4c315a4a",
   "metadata": {},
   "outputs": [],
   "source": [
    "import os\n",
    "import tensorflow as tf\n",
    "from tensorflow.keras import models\n",
    "from tensorflow.keras import layers\n",
    "from tensorflow import feature_column\n",
    "import pandas as pd\n",
    "import matplotlib.pyplot as plt\n",
    "from sklearn.model_selection import train_test_split\n",
    "from numpy.random import seed\n",
    "from IPython.display import Markdown as md"
   ]
  },
  {
   "cell_type": "code",
   "execution_count": 2,
   "id": "f28f2cf9-21d3-445d-81f7-0e0bf2b50591",
   "metadata": {},
   "outputs": [],
   "source": [
    "# Configuration specific to Apple Mac M1. \n",
    "# Turn off GPU as it is actually slower than CPU for learning models which are not complex enough to benefit from parallel processing\n",
    "# https://stackoverflow.com/questions/70653251/why-gpu-is-3-5-times-slower-than-the-cpu-on-apple-m1-mac\n",
    "tf.config.set_visible_devices([], 'GPU')"
   ]
  },
  {
   "cell_type": "markdown",
   "id": "f995fed4-706e-45a0-bf06-3bf1d4cfaddb",
   "metadata": {},
   "source": [
    "<div class=\"alert alert-block alert-info\">\n",
    "Add random setting for reproducible results:\n",
    "</div>"
   ]
  },
  {
   "cell_type": "code",
   "execution_count": 3,
   "id": "acf04945-5d79-439e-8f71-a3caa6f9bfc0",
   "metadata": {},
   "outputs": [],
   "source": [
    "# set numpy random seed\n",
    "seed(99)\n",
    "# set tensorflow random seed - setting from https://www.tensorflow.org/versions/r2.9/api_docs/python/tf/random/set_seed\n",
    "tf.random.set_seed(100)"
   ]
  },
  {
   "cell_type": "code",
   "execution_count": 4,
   "id": "82451b48-3968-4c4e-b8cf-23a1e87c638c",
   "metadata": {},
   "outputs": [],
   "source": [
    "# turn off notebook warnings but keep errors\n",
    "# https://www.codegrepper.com/code-examples/python/keras+disable+tensorflow+warnings\n",
    "os.environ['TF_CPP_MIN_LOG_LEVEL'] = '2'"
   ]
  },
  {
   "cell_type": "code",
   "execution_count": 5,
   "id": "3e9c03e4-6ff6-4f91-9ae1-4fe3b456c25a",
   "metadata": {},
   "outputs": [],
   "source": [
    "# setting to ignore warnings from https://softhints.com/turn-off-warnings-jupyterlab-jupyter-notebook/\n",
    "import warnings\n",
    "warnings.filterwarnings('ignore')"
   ]
  },
  {
   "cell_type": "markdown",
   "id": "ad5ef409-8dcd-4f70-a559-cebe8814db2c",
   "metadata": {},
   "source": [
    "<div class=\"alert alert-block alert-info\">\n",
    "We then read the dataset from a CSV file into a pandas dataframe.\n",
    "</div>"
   ]
  },
  {
   "cell_type": "code",
   "execution_count": 6,
   "id": "2f96ec2f-a837-41ad-aa69-3b9e05384b6c",
   "metadata": {},
   "outputs": [],
   "source": [
    "# data source: https://www.kaggle.com/datasets/shivam2503/diamonds?resource=download\n",
    "ds = pd.read_csv('diamonds.csv', header=0)"
   ]
  },
  {
   "cell_type": "markdown",
   "id": "fe295ba3-ea93-48a3-866f-afa7555225b0",
   "metadata": {},
   "source": [
    "<div class=\"alert alert-block alert-info\">\n",
    "Let's what types of columns we have in the dataframe:\n",
    "</div>"
   ]
  },
  {
   "cell_type": "code",
   "execution_count": 7,
   "id": "fe74e8a0-cb6a-4c7a-9a0b-f870277f6876",
   "metadata": {},
   "outputs": [
    {
     "data": {
      "text/plain": [
       "Unnamed: 0      int64\n",
       "carat         float64\n",
       "cut            object\n",
       "color          object\n",
       "clarity        object\n",
       "depth         float64\n",
       "table         float64\n",
       "price           int64\n",
       "x             float64\n",
       "y             float64\n",
       "z             float64\n",
       "dtype: object"
      ]
     },
     "execution_count": 7,
     "metadata": {},
     "output_type": "execute_result"
    }
   ],
   "source": [
    "ds.dtypes"
   ]
  },
  {
   "cell_type": "markdown",
   "id": "88698148-89ae-4b92-ae4e-46a44702be16",
   "metadata": {},
   "source": [
    "<div class=\"alert alert-block alert-info\">\n",
    "And what the values look like:\n",
    "</div>"
   ]
  },
  {
   "cell_type": "code",
   "execution_count": 8,
   "id": "54277514-2933-435b-881b-2bd02d1dce1b",
   "metadata": {},
   "outputs": [
    {
     "data": {
      "text/html": [
       "<div>\n",
       "<style scoped>\n",
       "    .dataframe tbody tr th:only-of-type {\n",
       "        vertical-align: middle;\n",
       "    }\n",
       "\n",
       "    .dataframe tbody tr th {\n",
       "        vertical-align: top;\n",
       "    }\n",
       "\n",
       "    .dataframe thead th {\n",
       "        text-align: right;\n",
       "    }\n",
       "</style>\n",
       "<table border=\"1\" class=\"dataframe\">\n",
       "  <thead>\n",
       "    <tr style=\"text-align: right;\">\n",
       "      <th></th>\n",
       "      <th>Unnamed: 0</th>\n",
       "      <th>carat</th>\n",
       "      <th>cut</th>\n",
       "      <th>color</th>\n",
       "      <th>clarity</th>\n",
       "      <th>depth</th>\n",
       "      <th>table</th>\n",
       "      <th>price</th>\n",
       "      <th>x</th>\n",
       "      <th>y</th>\n",
       "      <th>z</th>\n",
       "    </tr>\n",
       "  </thead>\n",
       "  <tbody>\n",
       "    <tr>\n",
       "      <th>0</th>\n",
       "      <td>1</td>\n",
       "      <td>0.23</td>\n",
       "      <td>Ideal</td>\n",
       "      <td>E</td>\n",
       "      <td>SI2</td>\n",
       "      <td>61.5</td>\n",
       "      <td>55.0</td>\n",
       "      <td>326</td>\n",
       "      <td>3.95</td>\n",
       "      <td>3.98</td>\n",
       "      <td>2.43</td>\n",
       "    </tr>\n",
       "    <tr>\n",
       "      <th>1</th>\n",
       "      <td>2</td>\n",
       "      <td>0.21</td>\n",
       "      <td>Premium</td>\n",
       "      <td>E</td>\n",
       "      <td>SI1</td>\n",
       "      <td>59.8</td>\n",
       "      <td>61.0</td>\n",
       "      <td>326</td>\n",
       "      <td>3.89</td>\n",
       "      <td>3.84</td>\n",
       "      <td>2.31</td>\n",
       "    </tr>\n",
       "    <tr>\n",
       "      <th>2</th>\n",
       "      <td>3</td>\n",
       "      <td>0.23</td>\n",
       "      <td>Good</td>\n",
       "      <td>E</td>\n",
       "      <td>VS1</td>\n",
       "      <td>56.9</td>\n",
       "      <td>65.0</td>\n",
       "      <td>327</td>\n",
       "      <td>4.05</td>\n",
       "      <td>4.07</td>\n",
       "      <td>2.31</td>\n",
       "    </tr>\n",
       "    <tr>\n",
       "      <th>3</th>\n",
       "      <td>4</td>\n",
       "      <td>0.29</td>\n",
       "      <td>Premium</td>\n",
       "      <td>I</td>\n",
       "      <td>VS2</td>\n",
       "      <td>62.4</td>\n",
       "      <td>58.0</td>\n",
       "      <td>334</td>\n",
       "      <td>4.20</td>\n",
       "      <td>4.23</td>\n",
       "      <td>2.63</td>\n",
       "    </tr>\n",
       "    <tr>\n",
       "      <th>4</th>\n",
       "      <td>5</td>\n",
       "      <td>0.31</td>\n",
       "      <td>Good</td>\n",
       "      <td>J</td>\n",
       "      <td>SI2</td>\n",
       "      <td>63.3</td>\n",
       "      <td>58.0</td>\n",
       "      <td>335</td>\n",
       "      <td>4.34</td>\n",
       "      <td>4.35</td>\n",
       "      <td>2.75</td>\n",
       "    </tr>\n",
       "  </tbody>\n",
       "</table>\n",
       "</div>"
      ],
      "text/plain": [
       "   Unnamed: 0  carat      cut color clarity  depth  table  price     x     y  \\\n",
       "0           1   0.23    Ideal     E     SI2   61.5   55.0    326  3.95  3.98   \n",
       "1           2   0.21  Premium     E     SI1   59.8   61.0    326  3.89  3.84   \n",
       "2           3   0.23     Good     E     VS1   56.9   65.0    327  4.05  4.07   \n",
       "3           4   0.29  Premium     I     VS2   62.4   58.0    334  4.20  4.23   \n",
       "4           5   0.31     Good     J     SI2   63.3   58.0    335  4.34  4.35   \n",
       "\n",
       "      z  \n",
       "0  2.43  \n",
       "1  2.31  \n",
       "2  2.31  \n",
       "3  2.63  \n",
       "4  2.75  "
      ]
     },
     "execution_count": 8,
     "metadata": {},
     "output_type": "execute_result"
    }
   ],
   "source": [
    "ds.head()"
   ]
  },
  {
   "cell_type": "markdown",
   "id": "c4cd9daf-3693-4e48-ba04-60a96bdd5dcf",
   "metadata": {},
   "source": [
    "<div class=\"alert alert-block alert-info\">\n",
    "We notice that the index column is being duplicated as it was already included in the CSV file. Let's remove this column from the dataframe.\n",
    "</div>"
   ]
  },
  {
   "cell_type": "code",
   "execution_count": 9,
   "id": "0879052a-ee40-48f4-94a3-3cf7a8675d04",
   "metadata": {},
   "outputs": [],
   "source": [
    "ds = ds.drop(columns=['Unnamed: 0'])"
   ]
  },
  {
   "cell_type": "markdown",
   "id": "590c4cbe-a75d-4c05-a618-3e0775dd3fa3",
   "metadata": {},
   "source": [
    "<div class=\"alert alert-block alert-info\">\n",
    "Based on the types of the columns, we will first separate the numerical features, excluding the <b>price</b>, which is our target variable.\n",
    "</div>"
   ]
  },
  {
   "cell_type": "code",
   "execution_count": 10,
   "id": "d32f91f3-fa04-4ddf-b258-b5b748c3b282",
   "metadata": {},
   "outputs": [],
   "source": [
    "labels_numerical = ['carat','depth','table', 'x', 'y', 'z']\n",
    "labels_categorical = ['cut', 'color','clarity']\n",
    "labels_all = ['carat','depth','table', 'x', 'y', 'z', 'cut', 'color', 'clarity']"
   ]
  },
  {
   "cell_type": "markdown",
   "id": "45c01273-e774-46a8-a8c8-6341ba6b26d1",
   "metadata": {},
   "source": [
    "<div class=\"alert alert-block alert-info\">\n",
    "Let's verify that we have made a correct selection so far:\n",
    "</div>"
   ]
  },
  {
   "cell_type": "code",
   "execution_count": 11,
   "id": "595d2280-d904-42f7-bd53-ad41e5d3c9cf",
   "metadata": {},
   "outputs": [
    {
     "data": {
      "text/html": [
       "<div>\n",
       "<style scoped>\n",
       "    .dataframe tbody tr th:only-of-type {\n",
       "        vertical-align: middle;\n",
       "    }\n",
       "\n",
       "    .dataframe tbody tr th {\n",
       "        vertical-align: top;\n",
       "    }\n",
       "\n",
       "    .dataframe thead th {\n",
       "        text-align: right;\n",
       "    }\n",
       "</style>\n",
       "<table border=\"1\" class=\"dataframe\">\n",
       "  <thead>\n",
       "    <tr style=\"text-align: right;\">\n",
       "      <th></th>\n",
       "      <th>carat</th>\n",
       "      <th>depth</th>\n",
       "      <th>table</th>\n",
       "      <th>x</th>\n",
       "      <th>y</th>\n",
       "      <th>z</th>\n",
       "    </tr>\n",
       "  </thead>\n",
       "  <tbody>\n",
       "    <tr>\n",
       "      <th>0</th>\n",
       "      <td>0.23</td>\n",
       "      <td>61.5</td>\n",
       "      <td>55.0</td>\n",
       "      <td>3.95</td>\n",
       "      <td>3.98</td>\n",
       "      <td>2.43</td>\n",
       "    </tr>\n",
       "    <tr>\n",
       "      <th>1</th>\n",
       "      <td>0.21</td>\n",
       "      <td>59.8</td>\n",
       "      <td>61.0</td>\n",
       "      <td>3.89</td>\n",
       "      <td>3.84</td>\n",
       "      <td>2.31</td>\n",
       "    </tr>\n",
       "    <tr>\n",
       "      <th>2</th>\n",
       "      <td>0.23</td>\n",
       "      <td>56.9</td>\n",
       "      <td>65.0</td>\n",
       "      <td>4.05</td>\n",
       "      <td>4.07</td>\n",
       "      <td>2.31</td>\n",
       "    </tr>\n",
       "    <tr>\n",
       "      <th>3</th>\n",
       "      <td>0.29</td>\n",
       "      <td>62.4</td>\n",
       "      <td>58.0</td>\n",
       "      <td>4.20</td>\n",
       "      <td>4.23</td>\n",
       "      <td>2.63</td>\n",
       "    </tr>\n",
       "    <tr>\n",
       "      <th>4</th>\n",
       "      <td>0.31</td>\n",
       "      <td>63.3</td>\n",
       "      <td>58.0</td>\n",
       "      <td>4.34</td>\n",
       "      <td>4.35</td>\n",
       "      <td>2.75</td>\n",
       "    </tr>\n",
       "  </tbody>\n",
       "</table>\n",
       "</div>"
      ],
      "text/plain": [
       "   carat  depth  table     x     y     z\n",
       "0   0.23   61.5   55.0  3.95  3.98  2.43\n",
       "1   0.21   59.8   61.0  3.89  3.84  2.31\n",
       "2   0.23   56.9   65.0  4.05  4.07  2.31\n",
       "3   0.29   62.4   58.0  4.20  4.23  2.63\n",
       "4   0.31   63.3   58.0  4.34  4.35  2.75"
      ]
     },
     "execution_count": 11,
     "metadata": {},
     "output_type": "execute_result"
    }
   ],
   "source": [
    "ds[labels_numerical].head()"
   ]
  },
  {
   "cell_type": "markdown",
   "id": "926c5c42-4664-4caa-b120-ed678bec1f92",
   "metadata": {},
   "source": [
    "<div class=\"alert alert-block alert-info\">\n",
    "Now, we will split the data now into 2 parts: one for training and validation and one for testing. We will retain <b>30%</b> of the data for testing.\n",
    "</div>"
   ]
  },
  {
   "cell_type": "code",
   "execution_count": 12,
   "id": "5fc42ff7-ea6d-4ca9-b380-c12050b837b8",
   "metadata": {},
   "outputs": [],
   "source": [
    "# using random state_setting to have reproducible results\n",
    "train_val_data, test_data = train_test_split(ds, test_size=0.3, random_state=99, shuffle=True)"
   ]
  },
  {
   "cell_type": "markdown",
   "id": "49be69b2-8a08-4c22-984e-b928418cd638",
   "metadata": {},
   "source": [
    "<div class=\"alert alert-block alert-info\">\n",
    "Now, the partition that we kept for training and validation will be further split in 2 parts: one for training and one for validation. We will use <b>20%</b> of the data to validate the model.\n",
    "</div>"
   ]
  },
  {
   "cell_type": "code",
   "execution_count": 13,
   "id": "045cbce5-98c0-4dfa-8a54-6f95f3f5a2aa",
   "metadata": {},
   "outputs": [],
   "source": [
    "train_data, val_data = train_test_split(train_val_data, test_size=0.2, random_state=99, shuffle=True)"
   ]
  },
  {
   "cell_type": "markdown",
   "id": "d29e6b35-0476-4bb7-b3cd-f628b4fcab27",
   "metadata": {},
   "source": [
    "<div class=\"alert alert-block alert-info\">\n",
    "Let'see how many records we have now for each of the 3 partitions:\n",
    "</div>"
   ]
  },
  {
   "cell_type": "code",
   "execution_count": 14,
   "id": "eeb27c61-e9ef-4a42-8ab5-7ed16b735129",
   "metadata": {},
   "outputs": [
    {
     "name": "stdout",
     "output_type": "stream",
     "text": [
      "records for training:  30206\n",
      "records for validation:  7552\n",
      "records for testing:  16182\n"
     ]
    }
   ],
   "source": [
    "print(\"records for training: \", len(train_data))\n",
    "print(\"records for validation: \", len(val_data))\n",
    "print(\"records for testing: \",len(test_data))"
   ]
  },
  {
   "cell_type": "markdown",
   "id": "54c3335f-7b49-4d5a-9ae7-5cf8373b20b0",
   "metadata": {},
   "source": [
    "<div class=\"alert alert-block alert-info\">\n",
    "Now we will extract the average price of a diamond in the training dataset. Notice that we are <b>excluding the test partition</b>, which should be completely \"invisible\" to us while we select and improve the model. While there is likely little \"spillover\" in the mean of the data, this is the correct way to approach it.\n",
    "</div>"
   ]
  },
  {
   "cell_type": "code",
   "execution_count": 15,
   "id": "581742c0-43c9-48ef-8011-e4ce0fa03536",
   "metadata": {},
   "outputs": [
    {
     "name": "stdout",
     "output_type": "stream",
     "text": [
      "3930.7659039144023\n"
     ]
    }
   ],
   "source": [
    "avg_price = train_val_data['price'].mean()\n",
    "print(avg_price)"
   ]
  },
  {
   "cell_type": "markdown",
   "id": "c5f75236-bb4e-4013-bfa1-fe63e53e64f8",
   "metadata": {},
   "source": [
    "<div class=\"alert alert-block alert-info\">\n",
    "It is typical to normalize numerical values so let us build a function for this purpose.\n",
    "</div>"
   ]
  },
  {
   "cell_type": "code",
   "execution_count": 16,
   "id": "7af0f6bd-60a9-4262-aabc-7f35646afed4",
   "metadata": {},
   "outputs": [],
   "source": [
    "# function to normalize a numerical column\n",
    "def normalize(dataset, mean_dict_input, std_dict_input, column):\n",
    "    return (dataset[column] - mean_dict_input[column]) / std_dict_input[column]"
   ]
  },
  {
   "cell_type": "markdown",
   "id": "0fb039c5-0632-41f2-a1d3-8de03e3d2794",
   "metadata": {},
   "source": [
    "<div class=\"alert alert-block alert-info\">\n",
    "Let's build 2 dictionaries to store the mean and standard deviation values from the training dataset\n",
    "</div>"
   ]
  },
  {
   "cell_type": "code",
   "execution_count": 17,
   "id": "d686b0b7-873f-4b97-9120-e5c776570bc9",
   "metadata": {},
   "outputs": [],
   "source": [
    "mean_dict = {}\n",
    "std_dict = {}\n",
    "for column in train_data[labels_numerical]:\n",
    "    mean_dict[column] = train_data[column].mean()\n",
    "    std_dict[column] = train_data[column].std()"
   ]
  },
  {
   "cell_type": "markdown",
   "id": "0e1f616d-0ac1-4bc5-bb02-ac8bad303efe",
   "metadata": {},
   "source": [
    "<div class=\"alert alert-block alert-info\">\n",
    "And see what the results look like\n",
    "</div>"
   ]
  },
  {
   "cell_type": "code",
   "execution_count": 18,
   "id": "2736fab3-15f3-495d-9517-dc122798f8dd",
   "metadata": {},
   "outputs": [
    {
     "name": "stdout",
     "output_type": "stream",
     "text": [
      "{'carat': 0.7967321062040654, 'depth': 61.74703701251407, 'table': 57.46264980467456, 'x': 5.731561610276104, 'y': 5.735978613520492, 'z': 3.539405416142489}\n",
      "{'carat': 0.46916521420385654, 'depth': 1.4431027679374298, 'table': 2.2305768278461398, 'x': 1.1128890216320924, 'y': 1.1557189126276661, 'z': 0.7091887067583221}\n"
     ]
    }
   ],
   "source": [
    "print(mean_dict)\n",
    "print(std_dict)"
   ]
  },
  {
   "cell_type": "markdown",
   "id": "eff11e58-89a9-4f3c-8d07-b4abb16aed68",
   "metadata": {},
   "source": [
    "<div class=\"alert alert-block alert-info\">\n",
    "We will now apply the <b>normalization</b> function to all the columns that have numerical values in both the training and the validation datasets. <br/>\n",
    "    Notice that we take the mean and standard deviation <b>from the training dataset only</b> as we do not want to have information spillover from the other partitions. <br/>\n",
    "The price doesn't need to be normalized as that will not influence the results and it will make the interpretation of the results more difficult.\n",
    "</div>"
   ]
  },
  {
   "cell_type": "code",
   "execution_count": 19,
   "id": "ef9ec799-d0c1-40f7-ab63-3409247ec26d",
   "metadata": {},
   "outputs": [],
   "source": [
    "# normalize data in train and validation partition using mean and standard deviation from the training partition\n",
    "for column in labels_numerical:\n",
    "    train_data[column] = normalize(train_data, mean_dict, std_dict, column)\n",
    "    val_data[column] = normalize(val_data, mean_dict, std_dict, column)"
   ]
  },
  {
   "cell_type": "code",
   "execution_count": 20,
   "id": "f18b27a0-9677-4cb5-a4d5-6c455514bfcf",
   "metadata": {},
   "outputs": [
    {
     "data": {
      "text/html": [
       "<div>\n",
       "<style scoped>\n",
       "    .dataframe tbody tr th:only-of-type {\n",
       "        vertical-align: middle;\n",
       "    }\n",
       "\n",
       "    .dataframe tbody tr th {\n",
       "        vertical-align: top;\n",
       "    }\n",
       "\n",
       "    .dataframe thead th {\n",
       "        text-align: right;\n",
       "    }\n",
       "</style>\n",
       "<table border=\"1\" class=\"dataframe\">\n",
       "  <thead>\n",
       "    <tr style=\"text-align: right;\">\n",
       "      <th></th>\n",
       "      <th>carat</th>\n",
       "      <th>depth</th>\n",
       "      <th>table</th>\n",
       "      <th>x</th>\n",
       "      <th>y</th>\n",
       "      <th>z</th>\n",
       "    </tr>\n",
       "  </thead>\n",
       "  <tbody>\n",
       "    <tr>\n",
       "      <th>46714</th>\n",
       "      <td>-0.419324</td>\n",
       "      <td>-1.349202</td>\n",
       "      <td>1.989329</td>\n",
       "      <td>-0.253001</td>\n",
       "      <td>-0.204183</td>\n",
       "      <td>-0.379878</td>\n",
       "    </tr>\n",
       "    <tr>\n",
       "      <th>32412</th>\n",
       "      <td>-0.824298</td>\n",
       "      <td>-0.032594</td>\n",
       "      <td>-1.552356</td>\n",
       "      <td>-0.855037</td>\n",
       "      <td>-0.818520</td>\n",
       "      <td>-0.831098</td>\n",
       "    </tr>\n",
       "    <tr>\n",
       "      <th>19300</th>\n",
       "      <td>0.454569</td>\n",
       "      <td>-0.379070</td>\n",
       "      <td>0.240902</td>\n",
       "      <td>0.645562</td>\n",
       "      <td>0.652426</td>\n",
       "      <td>0.593064</td>\n",
       "    </tr>\n",
       "    <tr>\n",
       "      <th>43401</th>\n",
       "      <td>-0.440638</td>\n",
       "      <td>-0.032594</td>\n",
       "      <td>-0.207413</td>\n",
       "      <td>-0.306914</td>\n",
       "      <td>-0.264752</td>\n",
       "      <td>-0.281174</td>\n",
       "    </tr>\n",
       "    <tr>\n",
       "      <th>47934</th>\n",
       "      <td>-0.504582</td>\n",
       "      <td>-0.032594</td>\n",
       "      <td>-1.552356</td>\n",
       "      <td>-0.342857</td>\n",
       "      <td>-0.394541</td>\n",
       "      <td>-0.365778</td>\n",
       "    </tr>\n",
       "  </tbody>\n",
       "</table>\n",
       "</div>"
      ],
      "text/plain": [
       "          carat     depth     table         x         y         z\n",
       "46714 -0.419324 -1.349202  1.989329 -0.253001 -0.204183 -0.379878\n",
       "32412 -0.824298 -0.032594 -1.552356 -0.855037 -0.818520 -0.831098\n",
       "19300  0.454569 -0.379070  0.240902  0.645562  0.652426  0.593064\n",
       "43401 -0.440638 -0.032594 -0.207413 -0.306914 -0.264752 -0.281174\n",
       "47934 -0.504582 -0.032594 -1.552356 -0.342857 -0.394541 -0.365778"
      ]
     },
     "execution_count": 20,
     "metadata": {},
     "output_type": "execute_result"
    }
   ],
   "source": [
    "train_data[labels_numerical].head()"
   ]
  },
  {
   "cell_type": "markdown",
   "id": "52b2cca9-ed6f-4338-b12d-f9325638721e",
   "metadata": {},
   "source": [
    "<div class=\"alert alert-block alert-info\">\n",
    "We can see now that the standard deviation for all the fields is 1.00 and the mean is ~0 in the training dataset, which is as expected\n",
    "</div>"
   ]
  },
  {
   "cell_type": "code",
   "execution_count": 21,
   "id": "7794afd7-2244-49ec-a31c-6e4d56dd46cc",
   "metadata": {},
   "outputs": [
    {
     "data": {
      "text/html": [
       "<div>\n",
       "<style scoped>\n",
       "    .dataframe tbody tr th:only-of-type {\n",
       "        vertical-align: middle;\n",
       "    }\n",
       "\n",
       "    .dataframe tbody tr th {\n",
       "        vertical-align: top;\n",
       "    }\n",
       "\n",
       "    .dataframe thead th {\n",
       "        text-align: right;\n",
       "    }\n",
       "</style>\n",
       "<table border=\"1\" class=\"dataframe\">\n",
       "  <thead>\n",
       "    <tr style=\"text-align: right;\">\n",
       "      <th></th>\n",
       "      <th>carat</th>\n",
       "      <th>depth</th>\n",
       "      <th>table</th>\n",
       "      <th>x</th>\n",
       "      <th>y</th>\n",
       "      <th>z</th>\n",
       "    </tr>\n",
       "  </thead>\n",
       "  <tbody>\n",
       "    <tr>\n",
       "      <th>count</th>\n",
       "      <td>3.020600e+04</td>\n",
       "      <td>3.020600e+04</td>\n",
       "      <td>3.020600e+04</td>\n",
       "      <td>3.020600e+04</td>\n",
       "      <td>3.020600e+04</td>\n",
       "      <td>3.020600e+04</td>\n",
       "    </tr>\n",
       "    <tr>\n",
       "      <th>mean</th>\n",
       "      <td>-3.246206e-17</td>\n",
       "      <td>-2.739280e-16</td>\n",
       "      <td>2.491581e-15</td>\n",
       "      <td>4.746988e-16</td>\n",
       "      <td>1.627808e-16</td>\n",
       "      <td>-8.066116e-16</td>\n",
       "    </tr>\n",
       "    <tr>\n",
       "      <th>std</th>\n",
       "      <td>1.000000e+00</td>\n",
       "      <td>1.000000e+00</td>\n",
       "      <td>1.000000e+00</td>\n",
       "      <td>1.000000e+00</td>\n",
       "      <td>1.000000e+00</td>\n",
       "      <td>1.000000e+00</td>\n",
       "    </tr>\n",
       "    <tr>\n",
       "      <th>min</th>\n",
       "      <td>-1.271902e+00</td>\n",
       "      <td>-1.299078e+01</td>\n",
       "      <td>-6.483816e+00</td>\n",
       "      <td>-5.150165e+00</td>\n",
       "      <td>-4.963126e+00</td>\n",
       "      <td>-4.990781e+00</td>\n",
       "    </tr>\n",
       "    <tr>\n",
       "      <th>25%</th>\n",
       "      <td>-8.456128e-01</td>\n",
       "      <td>-5.176603e-01</td>\n",
       "      <td>-6.557272e-01</td>\n",
       "      <td>-9.089510e-01</td>\n",
       "      <td>-8.704354e-01</td>\n",
       "      <td>-8.875006e-01</td>\n",
       "    </tr>\n",
       "    <tr>\n",
       "      <th>50%</th>\n",
       "      <td>-2.061792e-01</td>\n",
       "      <td>3.670077e-02</td>\n",
       "      <td>-2.074126e-01</td>\n",
       "      <td>-2.836007e-02</td>\n",
       "      <td>-1.382569e-02</td>\n",
       "      <td>-1.326222e-02</td>\n",
       "    </tr>\n",
       "    <tr>\n",
       "      <th>75%</th>\n",
       "      <td>5.185122e-01</td>\n",
       "      <td>5.217667e-01</td>\n",
       "      <td>6.892164e-01</td>\n",
       "      <td>7.174466e-01</td>\n",
       "      <td>6.870368e-01</td>\n",
       "      <td>6.917687e-01</td>\n",
       "    </tr>\n",
       "    <tr>\n",
       "      <th>max</th>\n",
       "      <td>7.104678e+00</td>\n",
       "      <td>1.140110e+01</td>\n",
       "      <td>8.310563e+00</td>\n",
       "      <td>3.853429e+00</td>\n",
       "      <td>4.600082e+01</td>\n",
       "      <td>3.984919e+01</td>\n",
       "    </tr>\n",
       "  </tbody>\n",
       "</table>\n",
       "</div>"
      ],
      "text/plain": [
       "              carat         depth         table             x             y  \\\n",
       "count  3.020600e+04  3.020600e+04  3.020600e+04  3.020600e+04  3.020600e+04   \n",
       "mean  -3.246206e-17 -2.739280e-16  2.491581e-15  4.746988e-16  1.627808e-16   \n",
       "std    1.000000e+00  1.000000e+00  1.000000e+00  1.000000e+00  1.000000e+00   \n",
       "min   -1.271902e+00 -1.299078e+01 -6.483816e+00 -5.150165e+00 -4.963126e+00   \n",
       "25%   -8.456128e-01 -5.176603e-01 -6.557272e-01 -9.089510e-01 -8.704354e-01   \n",
       "50%   -2.061792e-01  3.670077e-02 -2.074126e-01 -2.836007e-02 -1.382569e-02   \n",
       "75%    5.185122e-01  5.217667e-01  6.892164e-01  7.174466e-01  6.870368e-01   \n",
       "max    7.104678e+00  1.140110e+01  8.310563e+00  3.853429e+00  4.600082e+01   \n",
       "\n",
       "                  z  \n",
       "count  3.020600e+04  \n",
       "mean  -8.066116e-16  \n",
       "std    1.000000e+00  \n",
       "min   -4.990781e+00  \n",
       "25%   -8.875006e-01  \n",
       "50%   -1.326222e-02  \n",
       "75%    6.917687e-01  \n",
       "max    3.984919e+01  "
      ]
     },
     "execution_count": 21,
     "metadata": {},
     "output_type": "execute_result"
    }
   ],
   "source": [
    "train_data[labels_numerical].describe()"
   ]
  },
  {
   "cell_type": "markdown",
   "id": "b1502f69-c90d-42e1-9b24-1f7e4218d892",
   "metadata": {},
   "source": [
    "<div class=\"alert alert-block alert-info\">\n",
    "However, we don't see the same results when we look at the validation data. The mean is still very close to 0 and the standard deviation close to 1 but there are some differences. This makes sense, because the mean and standard deviation we calculated did not consider anything from the validation dataset.\n",
    "</div>"
   ]
  },
  {
   "cell_type": "code",
   "execution_count": 22,
   "id": "e670aaab-98e5-4175-856e-5852796c8d3c",
   "metadata": {},
   "outputs": [
    {
     "data": {
      "text/html": [
       "<div>\n",
       "<style scoped>\n",
       "    .dataframe tbody tr th:only-of-type {\n",
       "        vertical-align: middle;\n",
       "    }\n",
       "\n",
       "    .dataframe tbody tr th {\n",
       "        vertical-align: top;\n",
       "    }\n",
       "\n",
       "    .dataframe thead th {\n",
       "        text-align: right;\n",
       "    }\n",
       "</style>\n",
       "<table border=\"1\" class=\"dataframe\">\n",
       "  <thead>\n",
       "    <tr style=\"text-align: right;\">\n",
       "      <th></th>\n",
       "      <th>carat</th>\n",
       "      <th>depth</th>\n",
       "      <th>table</th>\n",
       "      <th>x</th>\n",
       "      <th>y</th>\n",
       "      <th>z</th>\n",
       "    </tr>\n",
       "  </thead>\n",
       "  <tbody>\n",
       "    <tr>\n",
       "      <th>count</th>\n",
       "      <td>7552.000000</td>\n",
       "      <td>7552.000000</td>\n",
       "      <td>7552.000000</td>\n",
       "      <td>7552.000000</td>\n",
       "      <td>7552.000000</td>\n",
       "      <td>7552.000000</td>\n",
       "    </tr>\n",
       "    <tr>\n",
       "      <th>mean</th>\n",
       "      <td>0.008896</td>\n",
       "      <td>0.003108</td>\n",
       "      <td>0.000212</td>\n",
       "      <td>0.004949</td>\n",
       "      <td>0.002409</td>\n",
       "      <td>0.002821</td>\n",
       "    </tr>\n",
       "    <tr>\n",
       "      <th>std</th>\n",
       "      <td>1.028233</td>\n",
       "      <td>0.982008</td>\n",
       "      <td>0.994476</td>\n",
       "      <td>1.012843</td>\n",
       "      <td>0.968753</td>\n",
       "      <td>0.986661</td>\n",
       "    </tr>\n",
       "    <tr>\n",
       "      <th>min</th>\n",
       "      <td>-1.271902</td>\n",
       "      <td>-7.447174</td>\n",
       "      <td>-3.793929</td>\n",
       "      <td>-1.744614</td>\n",
       "      <td>-1.701087</td>\n",
       "      <td>-4.990781</td>\n",
       "    </tr>\n",
       "    <tr>\n",
       "      <th>25%</th>\n",
       "      <td>-0.845613</td>\n",
       "      <td>-0.448365</td>\n",
       "      <td>-0.655727</td>\n",
       "      <td>-0.908951</td>\n",
       "      <td>-0.879088</td>\n",
       "      <td>-0.887501</td>\n",
       "    </tr>\n",
       "    <tr>\n",
       "      <th>50%</th>\n",
       "      <td>-0.206179</td>\n",
       "      <td>0.036701</td>\n",
       "      <td>-0.207413</td>\n",
       "      <td>-0.028360</td>\n",
       "      <td>-0.022478</td>\n",
       "      <td>-0.013262</td>\n",
       "    </tr>\n",
       "    <tr>\n",
       "      <th>75%</th>\n",
       "      <td>0.518512</td>\n",
       "      <td>0.521767</td>\n",
       "      <td>0.689216</td>\n",
       "      <td>0.717447</td>\n",
       "      <td>0.687037</td>\n",
       "      <td>0.691769</td>\n",
       "    </tr>\n",
       "    <tr>\n",
       "      <th>max</th>\n",
       "      <td>8.980350</td>\n",
       "      <td>5.857492</td>\n",
       "      <td>9.655507</td>\n",
       "      <td>4.500393</td>\n",
       "      <td>4.156739</td>\n",
       "      <td>4.851451</td>\n",
       "    </tr>\n",
       "  </tbody>\n",
       "</table>\n",
       "</div>"
      ],
      "text/plain": [
       "             carat        depth        table            x            y  \\\n",
       "count  7552.000000  7552.000000  7552.000000  7552.000000  7552.000000   \n",
       "mean      0.008896     0.003108     0.000212     0.004949     0.002409   \n",
       "std       1.028233     0.982008     0.994476     1.012843     0.968753   \n",
       "min      -1.271902    -7.447174    -3.793929    -1.744614    -1.701087   \n",
       "25%      -0.845613    -0.448365    -0.655727    -0.908951    -0.879088   \n",
       "50%      -0.206179     0.036701    -0.207413    -0.028360    -0.022478   \n",
       "75%       0.518512     0.521767     0.689216     0.717447     0.687037   \n",
       "max       8.980350     5.857492     9.655507     4.500393     4.156739   \n",
       "\n",
       "                 z  \n",
       "count  7552.000000  \n",
       "mean      0.002821  \n",
       "std       0.986661  \n",
       "min      -4.990781  \n",
       "25%      -0.887501  \n",
       "50%      -0.013262  \n",
       "75%       0.691769  \n",
       "max       4.851451  "
      ]
     },
     "execution_count": 22,
     "metadata": {},
     "output_type": "execute_result"
    }
   ],
   "source": [
    "val_data[labels_numerical].describe()"
   ]
  },
  {
   "cell_type": "markdown",
   "id": "90125165-b147-4cf8-b357-8aa031df07e2",
   "metadata": {},
   "source": [
    "<div class=\"alert alert-block alert-info\">\n",
    "We will now convert the dataset to a tensorflow dataset in order to make use of the <b>feature_columns</b> module in tensorflow. We will be using a function for this purpose, which we have imported from tensorflow.org documentation.\n",
    "</div>"
   ]
  },
  {
   "cell_type": "code",
   "execution_count": 23,
   "id": "41a5f3a8-b56c-495f-aac3-c37d4963c56a",
   "metadata": {},
   "outputs": [],
   "source": [
    "# source: https://www.tensorflow.org/tutorials/structured_data/feature_columns\n",
    "# adapted the function and set batching after conversion by using smallLastBatch=True for batch method to avoid rank 0 error \n",
    "# https://stackoverflow.com/questions/48046504/tensorflow-linearregressor-feature-cannot-have-rank-0\n",
    "# A utility method to create a tf.data dataset from a Pandas Dataframe\n",
    "def df_to_dataset(dataframe, shuffle=True, batch_size=32):\n",
    "    dataframe = dataframe.copy()\n",
    "    target = dataframe.pop('price')\n",
    "    ds = tf.data.Dataset.from_tensor_slices((dict(dataframe), target))\n",
    "    if shuffle:\n",
    "        ds = ds.shuffle(buffer_size=len(dataframe))\n",
    "        ds = ds.batch(batch_size, False)\n",
    "    return ds"
   ]
  },
  {
   "cell_type": "markdown",
   "id": "34f49612-515d-47ad-976f-61a91fafd2ae",
   "metadata": {},
   "source": [
    "<div class=\"alert alert-block alert-info\">\n",
    "Applying the function to each of the datasets\n",
    "</div>"
   ]
  },
  {
   "cell_type": "code",
   "execution_count": 24,
   "id": "e566a1be-b604-4bbb-a67f-2d81bc4b4ade",
   "metadata": {},
   "outputs": [],
   "source": [
    "# convert dataframes to tensorflow datasets and apply batching with default value\n",
    "train_ds = df_to_dataset(train_data, shuffle=False)\n",
    "train_ds = train_ds.batch(32, False)\n",
    "val_ds = df_to_dataset(val_data, shuffle=False)\n",
    "val_ds = val_ds.batch(32, False)"
   ]
  },
  {
   "cell_type": "markdown",
   "id": "4fea8243-ea3d-4621-8c98-80d3f8b39560",
   "metadata": {},
   "source": [
    "<div class=\"alert alert-block alert-info\">\n",
    "Checking size before and after applying batch method\n",
    "</div>"
   ]
  },
  {
   "cell_type": "code",
   "execution_count": 25,
   "id": "acb79645-214a-43ed-b77a-ab27bf59f56f",
   "metadata": {},
   "outputs": [
    {
     "name": "stdout",
     "output_type": "stream",
     "text": [
      "30206\n",
      "944\n"
     ]
    }
   ],
   "source": [
    "print(len(train_data))\n",
    "print(len(train_ds))"
   ]
  },
  {
   "cell_type": "markdown",
   "id": "154d141c-9f1b-4acd-95e2-ab1bcb247da7",
   "metadata": {},
   "source": [
    "<div class=\"alert alert-block alert-info\">\n",
    "Let's see how the data look like in this new structure\n",
    "</div>"
   ]
  },
  {
   "cell_type": "code",
   "execution_count": 26,
   "id": "0e1103df-bc04-49c2-9390-01a6cecf1043",
   "metadata": {},
   "outputs": [
    {
     "name": "stdout",
     "output_type": "stream",
     "text": [
      "Every feature: ['carat', 'cut', 'color', 'clarity', 'depth', 'table', 'x', 'y', 'z']\n",
      "A batch of carats: tf.Tensor(\n",
      "[-0.41932373 -0.82429834  0.45456885 -0.44063818 -0.50458154 -0.5685249\n",
      "  0.88085792 -0.80298388 -0.61115381  0.19879542  0.62508448  0.15616651\n",
      "  0.24142432  0.22010987  1.58423487 -1.03744287  1.71212159 -0.52589599\n",
      "  0.73165675  1.09400245 -0.84561279  0.45456885 -0.86692724  0.79560011\n",
      "  0.02827979 -0.2061792  -1.05875732  0.22010987  1.92526612 -0.18486474\n",
      " -0.82429834  0.92348682], shape=(32,), dtype=float64)\n",
      "A batch of prices: tf.Tensor(\n",
      "[ 1793   791  8016  1412  1915  1607  8699   902  1634  2728  4670  4108\n",
      "  3033  4198  7877   544  9229  1881  6144  8617   667  3897   698 10681\n",
      "  3266  2184   945  3478 15259  2743   875 16253], shape=(32,), dtype=int64)\n"
     ]
    }
   ],
   "source": [
    "# source: https://www.tensorflow.org/tutorials/structured_data/feature_columns\n",
    "for feature_batch, label_batch in train_ds.take(1):\n",
    "    print('Every feature:', list(feature_batch.keys()))\n",
    "    print('A batch of carats:', feature_batch['carat'])\n",
    "    print('A batch of prices:', label_batch )"
   ]
  },
  {
   "cell_type": "markdown",
   "id": "46c5a93c-8f42-4d68-915a-526b0ea64fcb",
   "metadata": {},
   "source": [
    "<div class=\"alert alert-block alert-info\">\n",
    "Let's initialize 3 separate lists which will store the feature columns. <br/>\n",
    "We will store just the numerical columns in one, just the categorical columns in another and all of the feature columns in the last one. <br/>\n",
    "This will allow us to analyze separately the predictive power of each of these combinations\n",
    "</div>"
   ]
  },
  {
   "cell_type": "code",
   "execution_count": 27,
   "id": "74a0d4c2-4b2f-4870-bc67-d0eb61bc9784",
   "metadata": {},
   "outputs": [],
   "source": [
    "feature_columns_numerical = []\n",
    "feature_columns_categorical = []\n",
    "feature_columns_all = []"
   ]
  },
  {
   "cell_type": "markdown",
   "id": "883ac565-c11f-4224-843e-04acc81cd9f3",
   "metadata": {},
   "source": [
    "<div class=\"alert alert-block alert-info\">\n",
    "All the numerical columns will now be converted to feature columns and will be added to the list containing numerical columns and the list containing all the columns.\n",
    "</div>"
   ]
  },
  {
   "cell_type": "code",
   "execution_count": 28,
   "id": "38a6ad1e-0eca-4dc9-8ca2-77354d4dfea7",
   "metadata": {},
   "outputs": [],
   "source": [
    "for column in labels_numerical:\n",
    "    feature_columns_numerical.append(feature_column.numeric_column(column))\n",
    "    feature_columns_all.append(feature_column.numeric_column(column))"
   ]
  },
  {
   "cell_type": "markdown",
   "id": "a8d20f90-fbd2-4605-8950-ac36738224be",
   "metadata": {},
   "source": [
    "<div class=\"alert alert-block alert-info\">\n",
    "Let's have a look at the possible values for the categorical columns\n",
    "</div>"
   ]
  },
  {
   "cell_type": "code",
   "execution_count": 29,
   "id": "8f91b656-4c7f-4286-9e0d-49adfbc48ef7",
   "metadata": {},
   "outputs": [
    {
     "name": "stdout",
     "output_type": "stream",
     "text": [
      "['Good' 'Ideal' 'Premium' 'Very Good' 'Fair']\n",
      "['G' 'D' 'F' 'E' 'H' 'I' 'J']\n",
      "['VS2' 'SI1' 'VVS2' 'VS1' 'SI2' 'VVS1' 'IF' 'I1']\n"
     ]
    }
   ],
   "source": [
    "print(train_data.cut.unique())\n",
    "print(train_data.color.unique())\n",
    "print(train_data.clarity.unique())"
   ]
  },
  {
   "cell_type": "markdown",
   "id": "07e91c8b-aade-42a5-8912-3a0e5061579b",
   "metadata": {},
   "source": [
    "<div class=\"alert alert-block alert-info\">\n",
    "And also the distribution of the values\n",
    "</div>"
   ]
  },
  {
   "cell_type": "code",
   "execution_count": 30,
   "id": "3c7eaf04-f2f1-4802-b50d-3ad5bbf45a44",
   "metadata": {},
   "outputs": [
    {
     "data": {
      "text/plain": [
       "<AxesSubplot:>"
      ]
     },
     "execution_count": 30,
     "metadata": {},
     "output_type": "execute_result"
    },
    {
     "data": {
      "image/png": "[encoded data removed]",
      "text/plain": [
       "<Figure size 432x288 with 1 Axes>"
      ]
     },
     "metadata": {
      "needs_background": "light"
     },
     "output_type": "display_data"
    }
   ],
   "source": [
    "train_data['cut'].value_counts().plot.bar(rot=0)"
   ]
  },
  {
   "cell_type": "code",
   "execution_count": 31,
   "id": "1eca5ea0-ed7f-4be4-894d-02b3364a4240",
   "metadata": {},
   "outputs": [
    {
     "data": {
      "text/plain": [
       "<AxesSubplot:>"
      ]
     },
     "execution_count": 31,
     "metadata": {},
     "output_type": "execute_result"
    },
    {
     "data": {
      "image/png": "[encoded data removed]",
      "text/plain": [
       "<Figure size 432x288 with 1 Axes>"
      ]
     },
     "metadata": {
      "needs_background": "light"
     },
     "output_type": "display_data"
    }
   ],
   "source": [
    "train_data['color'].value_counts().plot.bar(rot=0)"
   ]
  },
  {
   "cell_type": "code",
   "execution_count": 32,
   "id": "0002b304-fa07-4cc5-9152-0452bf6309c0",
   "metadata": {},
   "outputs": [
    {
     "data": {
      "text/plain": [
       "<AxesSubplot:>"
      ]
     },
     "execution_count": 32,
     "metadata": {},
     "output_type": "execute_result"
    },
    {
     "data": {
      "image/png": "[encoded data removed]",
      "text/plain": [
       "<Figure size 432x288 with 1 Axes>"
      ]
     },
     "metadata": {
      "needs_background": "light"
     },
     "output_type": "display_data"
    }
   ],
   "source": [
    "train_data['clarity'].value_counts().plot.bar(rot=0)"
   ]
  },
  {
   "cell_type": "markdown",
   "id": "211cf2cb-e09b-42fc-baa7-ba4a8f6bcfae",
   "metadata": {},
   "source": [
    "<div class=\"alert alert-block alert-info\">\n",
    "There doesn't seem to be any abnormality in the distribution of values but we do have many possible options for each. <br/>\n",
    "We will now be using the <b>categorical_column_with_vocabulary_list</b> method to convert the categorical columns to indicator columns, which are numerical <br/>\n",
    "</div>"
   ]
  },
  {
   "cell_type": "code",
   "execution_count": 33,
   "id": "d71f1669-3ad2-4107-acf0-d48e77cca984",
   "metadata": {},
   "outputs": [],
   "source": [
    "# add indicator_columns to the lists of features\n",
    "for column in labels_categorical:\n",
    "    categorical_column = feature_column.categorical_column_with_vocabulary_list(column, train_data[column].unique())\n",
    "    indicator_column = feature_column.indicator_column(categorical_column)\n",
    "    feature_columns_categorical.append(indicator_column)\n",
    "    feature_columns_all.append(indicator_column)"
   ]
  },
  {
   "cell_type": "markdown",
   "id": "a9b093ff-8df7-4c10-8f43-61959d3a2190",
   "metadata": {},
   "source": [
    "<div class=\"alert alert-block alert-info\">\n",
    "The values have now been added to all the 3 list. Let's verify what we have in each:\n",
    "</div>"
   ]
  },
  {
   "cell_type": "code",
   "execution_count": 34,
   "id": "8e341084-a247-454a-9368-c0e4fb29dab8",
   "metadata": {},
   "outputs": [
    {
     "data": {
      "text/plain": [
       "[NumericColumn(key='carat', shape=(1,), default_value=None, dtype=tf.float32, normalizer_fn=None),\n",
       " NumericColumn(key='depth', shape=(1,), default_value=None, dtype=tf.float32, normalizer_fn=None),\n",
       " NumericColumn(key='table', shape=(1,), default_value=None, dtype=tf.float32, normalizer_fn=None),\n",
       " NumericColumn(key='x', shape=(1,), default_value=None, dtype=tf.float32, normalizer_fn=None),\n",
       " NumericColumn(key='y', shape=(1,), default_value=None, dtype=tf.float32, normalizer_fn=None),\n",
       " NumericColumn(key='z', shape=(1,), default_value=None, dtype=tf.float32, normalizer_fn=None)]"
      ]
     },
     "execution_count": 34,
     "metadata": {},
     "output_type": "execute_result"
    }
   ],
   "source": [
    "feature_columns_numerical"
   ]
  },
  {
   "cell_type": "code",
   "execution_count": 35,
   "id": "8ac12c1f-b47c-4afb-8214-2251c8edcffc",
   "metadata": {},
   "outputs": [
    {
     "data": {
      "text/plain": [
       "[IndicatorColumn(categorical_column=VocabularyListCategoricalColumn(key='cut', vocabulary_list=('Good', 'Ideal', 'Premium', 'Very Good', 'Fair'), dtype=tf.string, default_value=-1, num_oov_buckets=0)),\n",
       " IndicatorColumn(categorical_column=VocabularyListCategoricalColumn(key='color', vocabulary_list=('G', 'D', 'F', 'E', 'H', 'I', 'J'), dtype=tf.string, default_value=-1, num_oov_buckets=0)),\n",
       " IndicatorColumn(categorical_column=VocabularyListCategoricalColumn(key='clarity', vocabulary_list=('VS2', 'SI1', 'VVS2', 'VS1', 'SI2', 'VVS1', 'IF', 'I1'), dtype=tf.string, default_value=-1, num_oov_buckets=0))]"
      ]
     },
     "execution_count": 35,
     "metadata": {},
     "output_type": "execute_result"
    }
   ],
   "source": [
    "feature_columns_categorical"
   ]
  },
  {
   "cell_type": "code",
   "execution_count": 36,
   "id": "905f12ca-cca0-47d8-b600-b988ef39c893",
   "metadata": {},
   "outputs": [
    {
     "data": {
      "text/plain": [
       "[NumericColumn(key='carat', shape=(1,), default_value=None, dtype=tf.float32, normalizer_fn=None),\n",
       " NumericColumn(key='depth', shape=(1,), default_value=None, dtype=tf.float32, normalizer_fn=None),\n",
       " NumericColumn(key='table', shape=(1,), default_value=None, dtype=tf.float32, normalizer_fn=None),\n",
       " NumericColumn(key='x', shape=(1,), default_value=None, dtype=tf.float32, normalizer_fn=None),\n",
       " NumericColumn(key='y', shape=(1,), default_value=None, dtype=tf.float32, normalizer_fn=None),\n",
       " NumericColumn(key='z', shape=(1,), default_value=None, dtype=tf.float32, normalizer_fn=None),\n",
       " IndicatorColumn(categorical_column=VocabularyListCategoricalColumn(key='cut', vocabulary_list=('Good', 'Ideal', 'Premium', 'Very Good', 'Fair'), dtype=tf.string, default_value=-1, num_oov_buckets=0)),\n",
       " IndicatorColumn(categorical_column=VocabularyListCategoricalColumn(key='color', vocabulary_list=('G', 'D', 'F', 'E', 'H', 'I', 'J'), dtype=tf.string, default_value=-1, num_oov_buckets=0)),\n",
       " IndicatorColumn(categorical_column=VocabularyListCategoricalColumn(key='clarity', vocabulary_list=('VS2', 'SI1', 'VVS2', 'VS1', 'SI2', 'VVS1', 'IF', 'I1'), dtype=tf.string, default_value=-1, num_oov_buckets=0))]"
      ]
     },
     "execution_count": 36,
     "metadata": {},
     "output_type": "execute_result"
    }
   ],
   "source": [
    "feature_columns_all"
   ]
  },
  {
   "cell_type": "markdown",
   "id": "0192cc97-f693-46c5-82bb-8a2270d302d8",
   "metadata": {},
   "source": [
    "<div class=\"alert alert-block alert-info\">\n",
    "And see some samples from the numerical features and categorical features\n",
    "</div>"
   ]
  },
  {
   "cell_type": "code",
   "execution_count": 37,
   "id": "90ba7eb0-52d1-4145-801d-d0ccdd4e40cb",
   "metadata": {},
   "outputs": [
    {
     "data": {
      "text/plain": [
       "array([[-0.4193237 ],\n",
       "       [-0.8242983 ],\n",
       "       [ 0.45456886],\n",
       "       [-0.44063818],\n",
       "       [-0.5045815 ],\n",
       "       [-0.5685249 ],\n",
       "       [ 0.88085794],\n",
       "       [-0.8029839 ],\n",
       "       [-0.6111538 ],\n",
       "       [ 0.19879542],\n",
       "       [ 0.62508446],\n",
       "       [ 0.15616651],\n",
       "       [ 0.24142432],\n",
       "       [ 0.22010987],\n",
       "       [ 1.5842348 ],\n",
       "       [-1.0374429 ],\n",
       "       [ 1.7121216 ],\n",
       "       [-0.525896  ],\n",
       "       [ 0.73165673],\n",
       "       [ 1.0940025 ],\n",
       "       [-0.84561276],\n",
       "       [ 0.45456886],\n",
       "       [-0.86692727],\n",
       "       [ 0.7956001 ],\n",
       "       [ 0.02827979],\n",
       "       [-0.2061792 ],\n",
       "       [-1.0587573 ],\n",
       "       [ 0.22010987],\n",
       "       [ 1.9252661 ],\n",
       "       [-0.18486474],\n",
       "       [-0.8242983 ],\n",
       "       [ 0.9234868 ]], dtype=float32)"
      ]
     },
     "execution_count": 37,
     "metadata": {},
     "output_type": "execute_result"
    }
   ],
   "source": [
    "# help from https://www.tensorflow.org/tutorials/structured_data/feature_columns\n",
    "layers.DenseFeatures(feature_columns_numerical[0])(next(iter(train_ds))[0]).numpy()"
   ]
  },
  {
   "cell_type": "code",
   "execution_count": 38,
   "id": "7980214a-0c89-48d8-bb30-b4460cd75566",
   "metadata": {},
   "outputs": [
    {
     "data": {
      "text/plain": [
       "array([[1., 0., 0., 0., 0.],\n",
       "       [0., 1., 0., 0., 0.],\n",
       "       [0., 0., 1., 0., 0.],\n",
       "       [0., 0., 0., 1., 0.],\n",
       "       [0., 1., 0., 0., 0.],\n",
       "       [0., 0., 1., 0., 0.],\n",
       "       [0., 1., 0., 0., 0.],\n",
       "       [0., 1., 0., 0., 0.],\n",
       "       [0., 0., 0., 1., 0.],\n",
       "       [1., 0., 0., 0., 0.],\n",
       "       [0., 1., 0., 0., 0.],\n",
       "       [0., 1., 0., 0., 0.],\n",
       "       [0., 0., 1., 0., 0.],\n",
       "       [0., 1., 0., 0., 0.],\n",
       "       [0., 0., 0., 1., 0.],\n",
       "       [1., 0., 0., 0., 0.],\n",
       "       [0., 0., 1., 0., 0.],\n",
       "       [0., 0., 1., 0., 0.],\n",
       "       [0., 0., 1., 0., 0.],\n",
       "       [0., 1., 0., 0., 0.],\n",
       "       [1., 0., 0., 0., 0.],\n",
       "       [0., 0., 0., 1., 0.],\n",
       "       [0., 1., 0., 0., 0.],\n",
       "       [0., 0., 0., 1., 0.],\n",
       "       [0., 0., 1., 0., 0.],\n",
       "       [0., 0., 0., 1., 0.],\n",
       "       [0., 0., 1., 0., 0.],\n",
       "       [0., 0., 1., 0., 0.],\n",
       "       [0., 0., 0., 1., 0.],\n",
       "       [0., 0., 0., 1., 0.],\n",
       "       [0., 1., 0., 0., 0.],\n",
       "       [0., 1., 0., 0., 0.]], dtype=float32)"
      ]
     },
     "execution_count": 38,
     "metadata": {},
     "output_type": "execute_result"
    }
   ],
   "source": [
    "layers.DenseFeatures(feature_columns_categorical[0])(next(iter(train_ds))[0]).numpy()"
   ]
  },
  {
   "cell_type": "markdown",
   "id": "cb39ddbc-2f66-4c61-9e00-24c11f6403c5",
   "metadata": {},
   "source": [
    "<div class=\"alert alert-block alert-info\">\n",
    "Everything looks alright so let's proceed to the next step. We will now use keras.layers <b>DenseFeatures</b> method to build layers for each of the 3 lists we have put together. <br/>\n",
    "But, first, let's first build a function to display a chart of how a model performs.\n",
    "</div>"
   ]
  },
  {
   "cell_type": "code",
   "execution_count": 39,
   "id": "a3d48844-92fd-4391-8d7d-2850f6c55cd6",
   "metadata": {},
   "outputs": [],
   "source": [
    "def show_performance(model):\n",
    "    mae = model.history.history['mae']\n",
    "    val_mae = model.history.history['val_mae']\n",
    "    plt.figure(figsize=(8,4), dpi=100)\n",
    "    plt.plot(mae, label='mae')\n",
    "    plt.plot(val_mae, label='val_mae')\n",
    "    plt.rc('font', size=8) #controls default text size\n",
    "    plt.rc('axes', titlesize=8) #fontsize of the title\n",
    "    plt.rc('axes', labelsize=8) #fontsize of the x and y labels\n",
    "    plt.rc('xtick', labelsize=8) #fontsize of the x tick labels\n",
    "    plt.rc('ytick', labelsize=8) #fontsize of the y tick labels\n",
    "    plt.rc('legend', fontsize=8) #fontsize of the legend\n",
    "    plt.legend()\n",
    "    plt.show()"
   ]
  },
  {
   "cell_type": "markdown",
   "id": "744ae514-adaf-44c5-921a-5b70a93d50ad",
   "metadata": {},
   "source": [
    "<div class=\"alert alert-block alert-info\">\n",
    "And a function to print the ending and best result of the model\n",
    "</div>"
   ]
  },
  {
   "cell_type": "code",
   "execution_count": 40,
   "id": "2491c06a-56b1-4aab-bb3d-aeedf3dc7584",
   "metadata": {},
   "outputs": [],
   "source": [
    "def print_summary(model):\n",
    "    # summary of performance model\n",
    "    mae = model.history.history['mae']\n",
    "    val_mae = model.history.history['val_mae']\n",
    "    print(\"Mean average error ending value: training data\", round(mae[len(mae)-1],2), \"; validation data\", round(val_mae[len(val_mae)-1],2))\n",
    "    print(\"Lowest Mean average error on the validation data:\", round(min(val_mae),2))\n",
    "    print(\"Lowest Mean average error as a % of average price: \", f' {100 * min(val_mae) / avg_price:.1f}%')"
   ]
  },
  {
   "cell_type": "markdown",
   "id": "b5f8f094-0789-4909-874d-e9c530ba5f80",
   "metadata": {},
   "source": [
    "<div class=\"alert alert-block alert-info\">\n",
    "We will store the results from all the models in a list\n",
    "</div>"
   ]
  },
  {
   "cell_type": "code",
   "execution_count": 41,
   "id": "0408fb28-86dd-4bd9-9c97-2a5f2c5fe93e",
   "metadata": {},
   "outputs": [],
   "source": [
    "results = []"
   ]
  },
  {
   "cell_type": "markdown",
   "id": "9b20546a-16a4-43e4-949a-3ccc535750be",
   "metadata": {},
   "source": [
    "<div class=\"alert alert-block alert-info\">\n",
    "We will be trying out multiple options so let's build a function to generate the models. This will reduce code repetition, especially as we tune different values for different parameters.\n",
    "</div>"
   ]
  },
  {
   "cell_type": "code",
   "execution_count": 42,
   "id": "dc5a8c83-76c4-489c-8fcb-42dc140c35d9",
   "metadata": {},
   "outputs": [],
   "source": [
    "# function to build model\n",
    "def get_model(feature_columns, # feature columns converted using feature_column module\n",
    "              column_labels, # names of the columns we pass as features\n",
    "              train_input, # training dataset or dataframe\n",
    "              val_input, # validation dataset or dataframe\n",
    "              input_format='ds', # can be df or ds, used for deciding if additional conversion and batching is required\n",
    "              batch_size=32, # used if input is provided as a pandas dataframe, allowing us to tune the parameter\n",
    "              layer2_units=128, # allowing us to tune the parameter, if 0 layer is skipped\n",
    "              layer3_units=128, # allowing us to tune the parameter, if 0 layer is skipped\n",
    "              epochs=11, # allowing us to tune the parameter\n",
    "              learning_rate=0.001, # allowing us to tune the parameter, used for adam optimizer\n",
    "              verbose=1, # if set to 0 the epoch learning statistics are not shown\n",
    "              showchart=True, # control whether we display the chart with the mae statistics\n",
    "              optimizer='rmsprop'): # default optimizer,\n",
    "    \n",
    "    # if the data is being passed as a dataframe, convert to dataset and use batch\n",
    "    # this allows us to use different values of batch_size so that we can tune the parameter\n",
    "    if input_format == 'df':\n",
    "        train_ds_local = df_to_dataset(train_input, shuffle=False)\n",
    "        train_ds_local = train_ds_local.batch(batch_size, False)\n",
    "        val_ds_local = df_to_dataset(val_input, shuffle=False)\n",
    "        val_ds_local = val_ds_local.batch(batch_size, False)\n",
    "    else:\n",
    "        train_ds_local = train_input\n",
    "        val_ds_local = val_input\n",
    "        \n",
    "    # dictionary to store inputs\n",
    "    inputs = {}\n",
    "        \n",
    "    # populate dictionary with feature names\n",
    "    # solution to use header layer first partially inspired from https://python.tutorialink.com/why-am-i-getting-warning-error-when-working-with-tensorflow-use-functional-api-and-not-implemented-error/\n",
    "    for header in column_labels:\n",
    "        if header in labels_categorical:\n",
    "            # dtype tf.string required for indicator columns\n",
    "            inputs[header] = tf.keras.Input(shape=(1,), name=header, dtype=tf.string)\n",
    "        else:\n",
    "            # dtype tf.float32 requires for numerical columns  \n",
    "            inputs[header] = tf.keras.Input(shape=(1,), name=header, dtype=tf.float32)\n",
    "    # DenseFeatures layer based on all the combined features\n",
    "    x = tf.keras.layers.DenseFeatures(feature_columns=feature_columns)(inputs)\n",
    "    # control whether layer 2 is applied and the # of units\n",
    "    if layer2_units > 0:\n",
    "        x = tf.keras.layers.Dense(layer2_units, activation='relu')(x)\n",
    "    # control whether layer 3 is applied and the # of units\n",
    "    if layer3_units > 0:\n",
    "        x = tf.keras.layers.Dense(layer3_units, activation='relu')(x)\n",
    "    x = tf.keras.layers.Dropout(.1)(x)\n",
    "    x = tf.keras.layers.Dense(1)(x)\n",
    "    # model definition based on inputs and outputs defined above\n",
    "    model = tf.keras.models.Model(inputs=inputs, outputs=x)\n",
    "\n",
    "    # compile model and add mae as metric\n",
    "    if optimizer=='adam':\n",
    "        model.compile(optimizer=tf.keras.optimizers.Adam(learning_rate=learning_rate), loss='mse', metrics=['mae'])\n",
    "    if optimizer=='rmsprop':\n",
    "        model.compile(optimizer='rmsprop', loss='mse', metrics=['mae'])\n",
    "    \n",
    "    # fit model\n",
    "    model.fit(train_ds_local,\n",
    "              validation_data=val_ds_local,\n",
    "              epochs=epochs,\n",
    "              verbose=verbose)\n",
    "    # use function to show chart and print summary\n",
    "    if showchart:\n",
    "        show_performance(model)\n",
    "    # summary of performance model\n",
    "    print_summary(model)\n",
    "    # append results to statistics for displaying table in the Results section\n",
    "    results.append({'features_used': len(feature_columns),\n",
    "                    'batch_size': batch_size,\n",
    "                    'optimizer': optimizer,\n",
    "                    'layer2_units': layer2_units,\n",
    "                    'layer3_units': layer3_units,\n",
    "                    'epochs': epochs,\n",
    "                    'learning_rate': learning_rate,\n",
    "                    'min_mae_val_data': round(min(model.history.history['val_mae']),2)})\n",
    "    return model"
   ]
  },
  {
   "cell_type": "markdown",
   "id": "30b56aa9-77c0-4fe2-99d8-be288fb832c6",
   "metadata": {},
   "source": [
    "<div class=\"alert alert-block alert-info\">\n",
    "Running the model with the numerical features:\n",
    "</div>"
   ]
  },
  {
   "cell_type": "code",
   "execution_count": 43,
   "id": "f571bd90-bf7b-4e96-8f5b-79c60713f373",
   "metadata": {},
   "outputs": [
    {
     "name": "stdout",
     "output_type": "stream",
     "text": [
      "Epoch 1/11\n",
      "944/944 [==============================] - 1s 835us/step - loss: 14115369.0000 - mae: 2263.9458 - val_loss: 2248552.7500 - val_mae: 960.0672\n",
      "Epoch 2/11\n",
      "944/944 [==============================] - 1s 710us/step - loss: 2525573.5000 - mae: 947.5446 - val_loss: 2142231.7500 - val_mae: 906.9059\n",
      "Epoch 3/11\n",
      "944/944 [==============================] - 1s 709us/step - loss: 2522576.5000 - mae: 911.4213 - val_loss: 2110073.2500 - val_mae: 874.4128\n",
      "Epoch 4/11\n",
      "944/944 [==============================] - 1s 709us/step - loss: 2422720.7500 - mae: 881.5825 - val_loss: 2066664.0000 - val_mae: 847.2663\n",
      "Epoch 5/11\n",
      "944/944 [==============================] - 1s 714us/step - loss: 2458880.7500 - mae: 861.9341 - val_loss: 2055827.5000 - val_mae: 829.1125\n",
      "Epoch 6/11\n",
      "944/944 [==============================] - 1s 730us/step - loss: 2416235.7500 - mae: 850.1353 - val_loss: 2051137.3750 - val_mae: 821.2114\n",
      "Epoch 7/11\n",
      "944/944 [==============================] - 1s 707us/step - loss: 2394849.0000 - mae: 846.7719 - val_loss: 2045619.8750 - val_mae: 817.6440\n",
      "Epoch 8/11\n",
      "944/944 [==============================] - 1s 708us/step - loss: 2370118.2500 - mae: 841.1881 - val_loss: 2040896.1250 - val_mae: 815.4157\n",
      "Epoch 9/11\n",
      "944/944 [==============================] - 1s 711us/step - loss: 2379944.2500 - mae: 839.9224 - val_loss: 2051224.0000 - val_mae: 813.1920\n",
      "Epoch 10/11\n",
      "944/944 [==============================] - 1s 706us/step - loss: 2367280.2500 - mae: 839.0628 - val_loss: 2039466.6250 - val_mae: 812.8073\n",
      "Epoch 11/11\n",
      "944/944 [==============================] - 1s 702us/step - loss: 2449983.5000 - mae: 842.5984 - val_loss: 2043223.6250 - val_mae: 811.6212\n"
     ]
    },
    {
     "data": {
      "image/png": "[encoded data removed]",
      "text/plain": [
       "<Figure size 800x400 with 1 Axes>"
      ]
     },
     "metadata": {
      "needs_background": "light"
     },
     "output_type": "display_data"
    },
    {
     "name": "stdout",
     "output_type": "stream",
     "text": [
      "Mean average error ending value: training data 842.6 ; validation data 811.62\n",
      "Lowest Mean average error on the validation data: 811.62\n",
      "Lowest Mean average error as a % of average price:   20.6%\n"
     ]
    }
   ],
   "source": [
    "# parameters not specified use the default values\n",
    "model = get_model(feature_columns_numerical, \n",
    "                  labels_numerical, \n",
    "                  train_ds, \n",
    "                  val_ds)"
   ]
  },
  {
   "cell_type": "markdown",
   "id": "c28030be-011d-48fb-80e9-ffa6344702e3",
   "metadata": {},
   "source": [
    "<div class=\"alert alert-block alert-info\">\n",
    "    With this initial approach, the best result for mean average error is approx. <b>21%</b> of the average price of a diamond. Now let us see what results we get when we use only the categorical features.\n",
    "</div>"
   ]
  },
  {
   "cell_type": "code",
   "execution_count": 44,
   "id": "c50dcbc4-25a7-441e-8014-585fabc2195a",
   "metadata": {},
   "outputs": [
    {
     "data": {
      "image/png": "[encoded data removed]",
      "text/plain": [
       "<Figure size 800x400 with 1 Axes>"
      ]
     },
     "metadata": {
      "needs_background": "light"
     },
     "output_type": "display_data"
    },
    {
     "name": "stdout",
     "output_type": "stream",
     "text": [
      "Mean average error ending value: training data 2823.85 ; validation data 2842.56\n",
      "Lowest Mean average error on the validation data: 2842.56\n",
      "Lowest Mean average error as a % of average price:   72.3%\n"
     ]
    }
   ],
   "source": [
    "model = get_model(feature_columns_categorical, \n",
    "                  labels_categorical, \n",
    "                  train_ds, \n",
    "                  val_ds, \n",
    "                  verbose=0)"
   ]
  },
  {
   "cell_type": "markdown",
   "id": "da2f9d56-7550-4ee6-b95c-ef35f39070df",
   "metadata": {},
   "source": [
    "<div class=\"alert alert-block alert-info\">\n",
    "We can see that the average error is very large and the categorical columns by themselves do not seem to have much predictive power. Let's now attempt the same thing with all columns\n",
    "</div>"
   ]
  },
  {
   "cell_type": "code",
   "execution_count": 45,
   "id": "0a4834eb-8b59-4d3b-b8c7-2119b5d86b5f",
   "metadata": {},
   "outputs": [
    {
     "data": {
      "image/png": "[encoded data removed]",
      "text/plain": [
       "<Figure size 800x400 with 1 Axes>"
      ]
     },
     "metadata": {
      "needs_background": "light"
     },
     "output_type": "display_data"
    },
    {
     "name": "stdout",
     "output_type": "stream",
     "text": [
      "Mean average error ending value: training data 379.78 ; validation data 364.46\n",
      "Lowest Mean average error on the validation data: 364.46\n",
      "Lowest Mean average error as a % of average price:   9.3%\n"
     ]
    }
   ],
   "source": [
    "model = get_model(feature_columns_all, \n",
    "                  labels_all, \n",
    "                  train_ds, \n",
    "                  val_ds, \n",
    "                  verbose=0)"
   ]
  },
  {
   "cell_type": "markdown",
   "id": "6a7d2d23-8102-4492-94f8-b00310669020",
   "metadata": {},
   "source": [
    "<div class=\"alert alert-block alert-info\">\n",
    "We can see that, using the combined columns, we get a much better prediction. The <b>mean average error</b> is now reduced to <b>9.3%</b> of the average price, which is <u>less than half</u> of what we had with the numerical columns alone.\n",
    "We will proceed further with this last option, where we use all the columns. Let us now see which value for the batch size works best.\n",
    "</div>"
   ]
  },
  {
   "cell_type": "code",
   "execution_count": 46,
   "id": "42019798-9ed3-4c4a-a541-6e90911cb3d6",
   "metadata": {},
   "outputs": [
    {
     "name": "stdout",
     "output_type": "stream",
     "text": [
      "Processing model with batch size: 16\n",
      "Mean average error ending value: training data 361.82 ; validation data 345.62\n",
      "Lowest Mean average error on the validation data: 345.62\n",
      "Lowest Mean average error as a % of average price:   8.8%\n",
      "===================\n",
      "Processing model with batch size: 32\n",
      "Mean average error ending value: training data 385.11 ; validation data 365.17\n",
      "Lowest Mean average error on the validation data: 365.17\n",
      "Lowest Mean average error as a % of average price:   9.3%\n",
      "===================\n",
      "Processing model with batch size: 64\n",
      "Mean average error ending value: training data 399.89 ; validation data 381.23\n",
      "Lowest Mean average error on the validation data: 381.23\n",
      "Lowest Mean average error as a % of average price:   9.7%\n",
      "===================\n",
      "Processing model with batch size: 128\n",
      "Mean average error ending value: training data 481.46 ; validation data 456.38\n",
      "Lowest Mean average error on the validation data: 456.38\n",
      "Lowest Mean average error as a % of average price:   11.6%\n",
      "===================\n",
      "Processing model with batch size: 256\n",
      "Mean average error ending value: training data 577.01 ; validation data 551.91\n",
      "Lowest Mean average error on the validation data: 551.91\n",
      "Lowest Mean average error as a % of average price:   14.0%\n",
      "===================\n"
     ]
    }
   ],
   "source": [
    "# different values of batch size, default values for the other tunable parameters\n",
    "for bs in [16, 32, 64, 128, 256]:\n",
    "    print('Processing model with batch size:', bs)\n",
    "    model = get_model(feature_columns_all, \n",
    "                      labels_all, \n",
    "                      train_data, \n",
    "                      val_data, \n",
    "                      input_format='df',\n",
    "                      batch_size=bs,\n",
    "                      verbose=0, \n",
    "                      showchart=False)\n",
    "    print('===================')"
   ]
  },
  {
   "cell_type": "markdown",
   "id": "7fd72dde-74d9-4214-8299-b127cfa37d2f",
   "metadata": {},
   "source": [
    "<div class=\"alert alert-block alert-info\">\n",
    "The results indicate that the use of small batch size may be appropriate, even with the extra computing time. We will choose a batch size of 16. <br/>\n",
    "Now that we have decided on the optimal batch size, let's attempt a few different options with the number of units for the layers\n",
    "</div>"
   ]
  },
  {
   "cell_type": "code",
   "execution_count": 47,
   "id": "29933dac-968b-4b19-8969-fc6d8b00a8c8",
   "metadata": {},
   "outputs": [
    {
     "name": "stdout",
     "output_type": "stream",
     "text": [
      "Processing model with layer 2 units:  512 layer 3 units:  512\n",
      "Mean average error ending value: training data 337.37 ; validation data 335.32\n",
      "Lowest Mean average error on the validation data: 335.32\n",
      "Lowest Mean average error as a % of average price:   8.5%\n",
      "===================\n",
      "Processing model with layer 2 units:  128 layer 3 units:  0\n",
      "Mean average error ending value: training data 572.52 ; validation data 547.51\n",
      "Lowest Mean average error on the validation data: 547.51\n",
      "Lowest Mean average error as a % of average price:   13.9%\n",
      "===================\n",
      "Processing model with layer 2 units:  128 layer 3 units:  64\n",
      "Mean average error ending value: training data 405.56 ; validation data 359.14\n",
      "Lowest Mean average error on the validation data: 359.14\n",
      "Lowest Mean average error as a % of average price:   9.1%\n",
      "===================\n",
      "Processing model with layer 2 units:  64 layer 3 units:  0\n",
      "Mean average error ending value: training data 623.91 ; validation data 589.32\n",
      "Lowest Mean average error on the validation data: 589.32\n",
      "Lowest Mean average error as a % of average price:   15.0%\n",
      "===================\n",
      "Processing model with layer 2 units:  128 layer 3 units:  128\n",
      "Mean average error ending value: training data 362.99 ; validation data 344.18\n",
      "Lowest Mean average error on the validation data: 344.18\n",
      "Lowest Mean average error as a % of average price:   8.8%\n",
      "===================\n",
      "Processing model with layer 2 units:  64 layer 3 units:  64\n",
      "Mean average error ending value: training data 401.58 ; validation data 362.81\n",
      "Lowest Mean average error on the validation data: 362.81\n",
      "Lowest Mean average error as a % of average price:   9.2%\n",
      "===================\n",
      "Processing model with layer 2 units:  512 layer 3 units:  256\n",
      "Mean average error ending value: training data 342.1 ; validation data 336.42\n",
      "Lowest Mean average error on the validation data: 336.42\n",
      "Lowest Mean average error as a % of average price:   8.6%\n",
      "===================\n",
      "Processing model with layer 2 units:  256 layer 3 units:  128\n",
      "Mean average error ending value: training data 358.04 ; validation data 340.34\n",
      "Lowest Mean average error on the validation data: 340.34\n",
      "Lowest Mean average error as a % of average price:   8.7%\n",
      "===================\n",
      "Processing model with layer 2 units:  256 layer 3 units:  256\n",
      "Mean average error ending value: training data 344.62 ; validation data 338.96\n",
      "Lowest Mean average error on the validation data: 338.96\n",
      "Lowest Mean average error as a % of average price:   8.6%\n",
      "===================\n"
     ]
    }
   ],
   "source": [
    "# combinations of layer 2/3 units, batch size = 16, default values for the other tunable parameters\n",
    "for (l2,l3) in {(64,0), (64,64), (128,0), (128, 64), (128, 128), (256, 128), (256, 256),(512, 256), (512, 512)}:\n",
    "    print('Processing model with layer 2 units: ', l2, 'layer 3 units: ', l3)\n",
    "    model = get_model(feature_columns_all, \n",
    "                      labels_all, \n",
    "                      train_data, \n",
    "                      val_data,\n",
    "                      input_format='df',\n",
    "                      layer2_units=l2, \n",
    "                      layer3_units=l3, \n",
    "                      batch_size=16,\n",
    "                      verbose=0, \n",
    "                      showchart=False)\n",
    "    print('===================')"
   ]
  },
  {
   "cell_type": "markdown",
   "id": "25b37613-a6e6-42bd-befa-0aa79f94cc7d",
   "metadata": {},
   "source": [
    "<div class=\"alert alert-block alert-info\">\n",
    "The best combination seems to be (512, 512) <br/>\n",
    "Let's also attempt a model with <b>adam</b> optimizer, using the best layer settings we have with rmsprop and the default parameters for adam. <br/>\n",
    "The default parameters* are: learning_rate=0.001, beta_1=0.9, beta_2=0.999 <br/>\n",
    "*source: https://www.tensorflow.org/api_docs/python/tf/keras/optimizers/Adam\n",
    "</div>"
   ]
  },
  {
   "cell_type": "code",
   "execution_count": 48,
   "id": "18c766c0-227f-4a68-a430-4232c51a266b",
   "metadata": {},
   "outputs": [
    {
     "name": "stdout",
     "output_type": "stream",
     "text": [
      "Mean average error ending value: training data 338.65 ; validation data 342.18\n",
      "Lowest Mean average error on the validation data: 342.18\n",
      "Lowest Mean average error as a % of average price:   8.7%\n"
     ]
    }
   ],
   "source": [
    "model = get_model(feature_columns_all, \n",
    "                  labels_all, \n",
    "                  train_data, \n",
    "                  val_data, \n",
    "                  input_format='df',\n",
    "                  batch_size=16,\n",
    "                  layer2_units=512, \n",
    "                  layer3_units=512, \n",
    "                  verbose=0,\n",
    "                  showchart=False,\n",
    "                  optimizer='adam')"
   ]
  },
  {
   "cell_type": "markdown",
   "id": "fcebb53b-4fc6-4cd6-ad2c-eec00cda5d2a",
   "metadata": {},
   "source": [
    "<div class=\"alert alert-block alert-info\">\n",
    "The <b>adam</b> optimizer doesn't seem to get to a better result with the same combination. However, let's see if we reach the same conclusion when we also optimize it. We start with the batch size.\n",
    "</div>"
   ]
  },
  {
   "cell_type": "code",
   "execution_count": 49,
   "id": "c48796f2-dbac-45dc-bd84-6debd3226cf7",
   "metadata": {},
   "outputs": [
    {
     "name": "stdout",
     "output_type": "stream",
     "text": [
      "Processing model with batch size: 16\n",
      "Mean average error ending value: training data 381.83 ; validation data 388.44\n",
      "Lowest Mean average error on the validation data: 386.15\n",
      "Lowest Mean average error as a % of average price:   9.8%\n",
      "===================\n",
      "Processing model with batch size: 32\n",
      "Mean average error ending value: training data 389.78 ; validation data 418.03\n",
      "Lowest Mean average error on the validation data: 417.22\n",
      "Lowest Mean average error as a % of average price:   10.6%\n",
      "===================\n",
      "Processing model with batch size: 64\n",
      "Mean average error ending value: training data 434.1 ; validation data 432.93\n",
      "Lowest Mean average error on the validation data: 432.93\n",
      "Lowest Mean average error as a % of average price:   11.0%\n",
      "===================\n",
      "Processing model with batch size: 128\n",
      "Mean average error ending value: training data 518.37 ; validation data 497.7\n",
      "Lowest Mean average error on the validation data: 497.7\n",
      "Lowest Mean average error as a % of average price:   12.7%\n",
      "===================\n",
      "Processing model with batch size: 256\n",
      "Mean average error ending value: training data 597.95 ; validation data 574.52\n",
      "Lowest Mean average error on the validation data: 574.52\n",
      "Lowest Mean average error as a % of average price:   14.6%\n",
      "===================\n"
     ]
    }
   ],
   "source": [
    "# different values of batch size, default values for the other tunable parameters\n",
    "for bs in [16, 32, 64, 128, 256]:\n",
    "    print('Processing model with batch size:', bs)\n",
    "    model = get_model(feature_columns_all, \n",
    "                      labels_all, \n",
    "                      train_data, \n",
    "                      val_data, \n",
    "                      input_format='df',\n",
    "                      batch_size=bs,\n",
    "                      verbose=0, \n",
    "                      showchart=False,\n",
    "                      optimizer='adam')\n",
    "    print('===================')"
   ]
  },
  {
   "cell_type": "markdown",
   "id": "efad5a9a-f7cf-4692-9871-15260726a253",
   "metadata": {},
   "source": [
    "<div class=\"alert alert-block alert-info\">\n",
    "Best choice for batch size remains 16 for adam as well. We proceed with optimizing the layer units\n",
    "</div>"
   ]
  },
  {
   "cell_type": "code",
   "execution_count": 50,
   "id": "a2f9a25b-8ecf-4f09-8612-7e8520b3abb3",
   "metadata": {},
   "outputs": [
    {
     "name": "stdout",
     "output_type": "stream",
     "text": [
      "Processing model with layer 2 units:  512 layer 3 units:  512\n",
      "Mean average error ending value: training data 339.04 ; validation data 341.26\n",
      "Lowest Mean average error on the validation data: 341.26\n",
      "Lowest Mean average error as a % of average price:   8.7%\n",
      "===================\n",
      "Processing model with layer 2 units:  128 layer 3 units:  0\n",
      "Mean average error ending value: training data 614.28 ; validation data 577.78\n",
      "Lowest Mean average error on the validation data: 577.78\n",
      "Lowest Mean average error as a % of average price:   14.7%\n",
      "===================\n",
      "Processing model with layer 2 units:  128 layer 3 units:  64\n",
      "Mean average error ending value: training data 408.53 ; validation data 400.25\n",
      "Lowest Mean average error on the validation data: 400.25\n",
      "Lowest Mean average error as a % of average price:   10.2%\n",
      "===================\n",
      "Processing model with layer 2 units:  64 layer 3 units:  0\n",
      "Mean average error ending value: training data 656.8 ; validation data 613.12\n",
      "Lowest Mean average error on the validation data: 613.12\n",
      "Lowest Mean average error as a % of average price:   15.6%\n",
      "===================\n",
      "Processing model with layer 2 units:  128 layer 3 units:  128\n",
      "Mean average error ending value: training data 375.7 ; validation data 385.94\n",
      "Lowest Mean average error on the validation data: 383.86\n",
      "Lowest Mean average error as a % of average price:   9.8%\n",
      "===================\n",
      "Processing model with layer 2 units:  64 layer 3 units:  64\n",
      "Mean average error ending value: training data 413.37 ; validation data 406.39\n",
      "Lowest Mean average error on the validation data: 406.39\n",
      "Lowest Mean average error as a % of average price:   10.3%\n",
      "===================\n",
      "Processing model with layer 2 units:  512 layer 3 units:  256\n",
      "Mean average error ending value: training data 350.73 ; validation data 352.87\n",
      "Lowest Mean average error on the validation data: 350.46\n",
      "Lowest Mean average error as a % of average price:   8.9%\n",
      "===================\n",
      "Processing model with layer 2 units:  256 layer 3 units:  128\n",
      "Mean average error ending value: training data 366.86 ; validation data 366.8\n",
      "Lowest Mean average error on the validation data: 366.8\n",
      "Lowest Mean average error as a % of average price:   9.3%\n",
      "===================\n",
      "Processing model with layer 2 units:  256 layer 3 units:  256\n",
      "Mean average error ending value: training data 353.29 ; validation data 350.21\n",
      "Lowest Mean average error on the validation data: 350.21\n",
      "Lowest Mean average error as a % of average price:   8.9%\n",
      "===================\n"
     ]
    }
   ],
   "source": [
    "# combinations of layer 2/3 units, batch_size = 16\n",
    "for (l2,l3) in {(64,0), (64,64), (128,0), (128, 64), (128, 128), (256, 128), (256, 256),(512, 256), (512, 512)}:\n",
    "    print('Processing model with layer 2 units: ', l2, 'layer 3 units: ', l3)\n",
    "    model = get_model(feature_columns_all, \n",
    "                      labels_all, \n",
    "                      train_data, \n",
    "                      val_data,\n",
    "                      input_format='df',\n",
    "                      batch_size=16,\n",
    "                      layer2_units=l2, \n",
    "                      layer3_units=l3,\n",
    "                      verbose=0, \n",
    "                      showchart=False,\n",
    "                      optimizer='adam')\n",
    "    print('===================')"
   ]
  },
  {
   "cell_type": "markdown",
   "id": "b2304918-07dd-41e0-bdf0-f91a630d1e08",
   "metadata": {},
   "source": [
    "<div class=\"alert alert-block alert-info\">\n",
    "Best combination is (512, 512) Now we will also analyze different values for learning rates.\n",
    "</div>"
   ]
  },
  {
   "cell_type": "code",
   "execution_count": 51,
   "id": "93e5973b-0133-4c4a-a80e-a9951ddb6b2f",
   "metadata": {},
   "outputs": [
    {
     "name": "stdout",
     "output_type": "stream",
     "text": [
      "Processing model with learning rate:  0.01\n",
      "Mean average error ending value: training data 348.08 ; validation data 352.04\n",
      "Lowest Mean average error on the validation data: 337.25\n",
      "Lowest Mean average error as a % of average price:   8.6%\n",
      "===================\n",
      "Processing model with learning rate:  0.005\n",
      "Mean average error ending value: training data 340.16 ; validation data 343.45\n",
      "Lowest Mean average error on the validation data: 343.45\n",
      "Lowest Mean average error as a % of average price:   8.7%\n",
      "===================\n",
      "Processing model with learning rate:  0.0025\n",
      "Mean average error ending value: training data 333.92 ; validation data 333.58\n",
      "Lowest Mean average error on the validation data: 332.83\n",
      "Lowest Mean average error as a % of average price:   8.5%\n",
      "===================\n",
      "Processing model with learning rate:  0.001\n",
      "Mean average error ending value: training data 338.34 ; validation data 345.27\n",
      "Lowest Mean average error on the validation data: 345.27\n",
      "Lowest Mean average error as a % of average price:   8.8%\n",
      "===================\n",
      "Processing model with learning rate:  0.0005\n",
      "Mean average error ending value: training data 349.96 ; validation data 359.84\n",
      "Lowest Mean average error on the validation data: 359.84\n",
      "Lowest Mean average error as a % of average price:   9.2%\n",
      "===================\n",
      "Processing model with learning rate:  0.00025\n",
      "Mean average error ending value: training data 380.28 ; validation data 409.02\n",
      "Lowest Mean average error on the validation data: 409.02\n",
      "Lowest Mean average error as a % of average price:   10.4%\n",
      "===================\n",
      "Processing model with learning rate:  0.0001\n",
      "Mean average error ending value: training data 483.67 ; validation data 482.66\n",
      "Lowest Mean average error on the validation data: 482.66\n",
      "Lowest Mean average error as a % of average price:   12.3%\n",
      "===================\n"
     ]
    }
   ],
   "source": [
    "# layer 2 = 512, layer 3 = 512, batch_size = 16, various learning rates\n",
    "learning_rates = [0.01, 0.005, 0.0025, 0.001, 0.0005, 0.00025, 0.0001]\n",
    "for lr in learning_rates:\n",
    "    print('Processing model with learning rate: ',lr)\n",
    "    model = get_model(feature_columns_all, \n",
    "                      labels_all, \n",
    "                      train_data, \n",
    "                      val_data,\n",
    "                      batch_size=16,\n",
    "                      input_format='df',\n",
    "                      layer2_units=512, \n",
    "                      layer3_units=512, \n",
    "                      learning_rate=lr,\n",
    "                      verbose=0, \n",
    "                      showchart=False,\n",
    "                      optimizer='adam')\n",
    "    print('===================')"
   ]
  },
  {
   "cell_type": "markdown",
   "id": "0184257b-b475-4b37-886f-2732b437ba23",
   "metadata": {},
   "source": [
    "<div class=\"alert alert-block alert-info\">\n",
    "    <b>Learning rate = 0.0025</b> produces the best results for adam and is now having a slightly better result than rmsprop. Let's compare both models, with their best settings but for more epochs.\n",
    "</div>"
   ]
  },
  {
   "cell_type": "code",
   "execution_count": 52,
   "id": "584f9551-db7c-4fcf-b8d9-cddb24a2ea48",
   "metadata": {},
   "outputs": [
    {
     "data": {
      "image/png": "[encoded data removed]",
      "text/plain": [
       "<Figure size 800x400 with 1 Axes>"
      ]
     },
     "metadata": {
      "needs_background": "light"
     },
     "output_type": "display_data"
    },
    {
     "name": "stdout",
     "output_type": "stream",
     "text": [
      "Mean average error ending value: training data 280.17 ; validation data 304.55\n",
      "Lowest Mean average error on the validation data: 296.47\n",
      "Lowest Mean average error as a % of average price:   7.5%\n"
     ]
    }
   ],
   "source": [
    "model = get_model(feature_columns_all, \n",
    "                  labels_all, \n",
    "                  train_data, \n",
    "                  val_data, \n",
    "                  input_format='df',\n",
    "                  batch_size=16,\n",
    "                  layer2_units=512, \n",
    "                  layer3_units=512, \n",
    "                  epochs=100,\n",
    "                  verbose=0, \n",
    "                  showchart=True,\n",
    "                  optimizer='rmsprop')"
   ]
  },
  {
   "cell_type": "code",
   "execution_count": 53,
   "id": "dc541b6f-3896-43fc-bfad-8a82c9bed922",
   "metadata": {},
   "outputs": [
    {
     "data": {
      "image/png": "[encoded data removed]",
      "text/plain": [
       "<Figure size 800x400 with 1 Axes>"
      ]
     },
     "metadata": {
      "needs_background": "light"
     },
     "output_type": "display_data"
    },
    {
     "name": "stdout",
     "output_type": "stream",
     "text": [
      "Mean average error ending value: training data 271.41 ; validation data 316.38\n",
      "Lowest Mean average error on the validation data: 309.96\n",
      "Lowest Mean average error as a % of average price:   7.9%\n"
     ]
    }
   ],
   "source": [
    "model = get_model(feature_columns_all, \n",
    "                  labels_all, \n",
    "                  train_data, \n",
    "                  val_data,\n",
    "                  input_format='df',\n",
    "                  batch_size=16,\n",
    "                  layer2_units=512, \n",
    "                  layer3_units=512, \n",
    "                  epochs=100,\n",
    "                  learning_rate=0.0025,\n",
    "                  verbose=0, \n",
    "                  showchart=True,\n",
    "                  optimizer='adam')"
   ]
  },
  {
   "cell_type": "markdown",
   "id": "6724fa2c-cdeb-473a-b479-674fff8fcb74",
   "metadata": {},
   "source": [
    "<h3>Results</h3>"
   ]
  },
  {
   "cell_type": "markdown",
   "id": "9ea57b89-35b3-4418-af74-933d076b396a",
   "metadata": {},
   "source": [
    "<div class=\"alert alert-block alert-info\">\n",
    "The lowest result is for rmsprop on the validation data. However, adam seems to do a better job at training and gets to comparable results faster, after approx 50 epochs, after which learning stops. The risk of overtraining is therefore lower with adam.\n",
    "We'll be choosing as a final set of parameters the following: <br/>\n",
    "<li>optimizer='adam'</li>\n",
    "<li>learning rate=0.0025</li>\n",
    "<li>layer2 units=512</li>\n",
    "<li>layer3 units=512</li>\n",
    "<li>epochs=50</li><br/>\n",
    "Now let's train on the entire training & validation dataset and use the testing partition for the final evaluation:\n",
    "</div>"
   ]
  },
  {
   "cell_type": "code",
   "execution_count": 54,
   "id": "ee4a0d17-a9e0-4ae4-b508-c9dd0e45ce5d",
   "metadata": {},
   "outputs": [],
   "source": [
    "# normalize data and convert to tensorflow datasets\n",
    "for column in labels_numerical:\n",
    "    train_val_data[column] = normalize(train_val_data, mean_dict, std_dict, column)\n",
    "    test_data[column] = normalize(test_data, mean_dict, std_dict, column)"
   ]
  },
  {
   "cell_type": "code",
   "execution_count": 56,
   "id": "19bd8740-aea8-4a61-984d-2a0766326e50",
   "metadata": {},
   "outputs": [
    {
     "data": {
      "image/png": "[encoded data removed]",
      "text/plain": [
       "<Figure size 800x400 with 1 Axes>"
      ]
     },
     "metadata": {
      "needs_background": "light"
     },
     "output_type": "display_data"
    },
    {
     "name": "stdout",
     "output_type": "stream",
     "text": [
      "Mean average error ending value: training data 290.88 ; validation data 303.55\n",
      "Lowest Mean average error on the validation data: 303.55\n",
      "Lowest Mean average error as a % of average price:   7.7%\n"
     ]
    }
   ],
   "source": [
    "# train model on training + validation data and evaluate on the test data\n",
    "# use the best parameters we obtained through tuning\n",
    "model = get_model(feature_columns_all, \n",
    "                  labels_all, \n",
    "                  train_val_data, \n",
    "                  test_data, \n",
    "                  input_format='df',\n",
    "                  batch_size=16,\n",
    "                  layer2_units=512, \n",
    "                  layer3_units=512,\n",
    "                  learning_rate=0.0025,\n",
    "                  epochs=50,\n",
    "                  verbose=0,\n",
    "                  optimizer=\"adam\")"
   ]
  },
  {
   "cell_type": "markdown",
   "id": "fb294f73-5416-47ad-97fa-a126ce206d2d",
   "metadata": {},
   "source": [
    "<div class=\"alert alert-block alert-info\">\n",
    "We will first build a function to help us tabulate all the results of the model combinations we attempted\n",
    "</div>"
   ]
  },
  {
   "cell_type": "code",
   "execution_count": 57,
   "id": "805cfc80-a4ff-438a-ac10-6f5755b31bc2",
   "metadata": {},
   "outputs": [],
   "source": [
    "# function to generate markdown code for results table\n",
    "def print_results(input_results):\n",
    "    \"\"\"generate markdown code for a matrix and display\n",
    "    \"\"\"\n",
    "    table = '| Features Used | Batch Size | Optimizer | Layer 2 units |  Layer 3 units  | Learning rate | Epochs | Min MAE |'\n",
    "    table += '\\n'\n",
    "    table += '| --- | --- | --- | --- | --- | --- | --- | --- |'\n",
    "    for i in range (0, len(input_results)):\n",
    "        table += '\\n' + '|'\n",
    "        table += (str(input_results[i]['features_used']) + '|')\n",
    "        table += (str(input_results[i]['batch_size']) + '|')\n",
    "        table += (str(input_results[i]['optimizer']) + '|')\n",
    "        table += (str(input_results[i]['layer2_units']) + '|')\n",
    "        table += (str(input_results[i]['layer3_units']) + '|')\n",
    "        table += (str(input_results[i]['learning_rate']) + '|')\n",
    "        table += (str(input_results[i]['epochs']) + '|')\n",
    "        table += (str(input_results[i]['min_mae_val_data']) + '|')\n",
    "    table += '\\n'\n",
    "    display(md(table))\n",
    "    display(md('***'))"
   ]
  },
  {
   "cell_type": "markdown",
   "id": "c1eb52dc-ddba-4efa-b963-20ba94ee27a4",
   "metadata": {},
   "source": [
    "<div class=\"alert alert-block alert-info\">\n",
    "Below is a summary of all the combinations we attempted throughout the analysis:\n",
    "</div>"
   ]
  },
  {
   "cell_type": "code",
   "execution_count": 58,
   "id": "870db02d-6fb2-4a81-b4d9-3dd63f3017bb",
   "metadata": {},
   "outputs": [
    {
     "data": {
      "text/markdown": [
       "| Features Used | Batch Size | Optimizer | Layer 2 units |  Layer 3 units  | Learning rate | Epochs | Min MAE |\n",
       "| --- | --- | --- | --- | --- | --- | --- | --- |\n",
       "|6|32|rmsprop|128|128|0.001|11|811.62|\n",
       "|3|32|rmsprop|128|128|0.001|11|2842.56|\n",
       "|9|32|rmsprop|128|128|0.001|11|364.46|\n",
       "|9|16|rmsprop|128|128|0.001|11|345.62|\n",
       "|9|32|rmsprop|128|128|0.001|11|365.17|\n",
       "|9|64|rmsprop|128|128|0.001|11|381.23|\n",
       "|9|128|rmsprop|128|128|0.001|11|456.38|\n",
       "|9|256|rmsprop|128|128|0.001|11|551.91|\n",
       "|9|16|rmsprop|512|512|0.001|11|335.32|\n",
       "|9|16|rmsprop|128|0|0.001|11|547.51|\n",
       "|9|16|rmsprop|128|64|0.001|11|359.14|\n",
       "|9|16|rmsprop|64|0|0.001|11|589.32|\n",
       "|9|16|rmsprop|128|128|0.001|11|344.18|\n",
       "|9|16|rmsprop|64|64|0.001|11|362.81|\n",
       "|9|16|rmsprop|512|256|0.001|11|336.42|\n",
       "|9|16|rmsprop|256|128|0.001|11|340.34|\n",
       "|9|16|rmsprop|256|256|0.001|11|338.96|\n",
       "|9|16|adam|512|512|0.001|11|342.18|\n",
       "|9|16|adam|128|128|0.001|11|386.15|\n",
       "|9|32|adam|128|128|0.001|11|417.22|\n",
       "|9|64|adam|128|128|0.001|11|432.93|\n",
       "|9|128|adam|128|128|0.001|11|497.7|\n",
       "|9|256|adam|128|128|0.001|11|574.52|\n",
       "|9|16|adam|512|512|0.001|11|341.26|\n",
       "|9|16|adam|128|0|0.001|11|577.78|\n",
       "|9|16|adam|128|64|0.001|11|400.25|\n",
       "|9|16|adam|64|0|0.001|11|613.12|\n",
       "|9|16|adam|128|128|0.001|11|383.86|\n",
       "|9|16|adam|64|64|0.001|11|406.39|\n",
       "|9|16|adam|512|256|0.001|11|350.46|\n",
       "|9|16|adam|256|128|0.001|11|366.8|\n",
       "|9|16|adam|256|256|0.001|11|350.21|\n",
       "|9|16|adam|512|512|0.01|11|337.25|\n",
       "|9|16|adam|512|512|0.005|11|343.45|\n",
       "|9|16|adam|512|512|0.0025|11|332.83|\n",
       "|9|16|adam|512|512|0.001|11|345.27|\n",
       "|9|16|adam|512|512|0.0005|11|359.84|\n",
       "|9|16|adam|512|512|0.00025|11|409.02|\n",
       "|9|16|adam|512|512|0.0001|11|482.66|\n",
       "|9|16|rmsprop|512|512|0.001|100|296.47|\n",
       "|9|16|adam|512|512|0.0025|100|309.96|\n",
       "|9|16|adam|512|512|0.0025|50|303.55|\n"
      ],
      "text/plain": [
       "<IPython.core.display.Markdown object>"
      ]
     },
     "metadata": {},
     "output_type": "display_data"
    },
    {
     "data": {
      "text/markdown": [
       "***"
      ],
      "text/plain": [
       "<IPython.core.display.Markdown object>"
      ]
     },
     "metadata": {},
     "output_type": "display_data"
    }
   ],
   "source": [
    "print_results(results)"
   ]
  },
  {
   "cell_type": "markdown",
   "id": "d9e2e5de-536c-4729-8500-cf259aa0b6e2",
   "metadata": {},
   "source": [
    "<h3>Conclusions</h3>"
   ]
  },
  {
   "cell_type": "markdown",
   "id": "a3378544-82cc-48ed-94f6-1452fa9405e6",
   "metadata": {},
   "source": [
    "<div class=\"alert alert-block alert-info\">\n",
    "The results we obtained on the validation data with our model are also reflected when we evaluate on the testing data so we can consider the methodology to be correct. The main conclusions from our attempts are the following:\n",
    "\n",
    "<li><b>feature_layer</b> module is a great tool, especially because of how easy it makes the use of multiple types of features in a linear regression model </li>\n",
    "<li>The combination of all the features has the highest predictive power for the price of a diamond. </li>\n",
    "<li>The number of layers used in the model and the units for each layer also influences the results significantly, with higher values producing a better result.</li>\n",
    "<li>adam optimizer produces slighly better results than rmsprop for this dataset, if we tune the learning rate.</li>\n",
    "<li>The batch size is normally at least 32 but, for this dataset, the additional processing required by a batch size of 16 seems to have a significant contribution.</li>\n",
    "<li>The number of epochs used in learning is also essential, but after exceeding 50 epochs for adam optimizer, it doesn't seem to make a difference and leads to over-training.</li>\n",
    "<br/>\n",
    "The model can be further improved by using other optimizers or by further tuning of other parameters of <b>rmsprop</b> and <b>adam</b>. Reducing the batch size may also improve the results.\n",
    "</div>"
   ]
  }
 ],
 "metadata": {
  "kernelspec": {
   "display_name": "Python 3 (ipykernel)",
   "language": "python",
   "name": "python3"
  },
  "language_info": {
   "codemirror_mode": {
    "name": "ipython",
    "version": 3
   },
   "file_extension": ".py",
   "mimetype": "text/x-python",
   "name": "python",
   "nbconvert_exporter": "python",
   "pygments_lexer": "ipython3",
   "version": "3.9.13"
  }
 },
 "nbformat": 4,
 "nbformat_minor": 5
}
